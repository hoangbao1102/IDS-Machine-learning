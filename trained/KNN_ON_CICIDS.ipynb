{
 "cells": [
  {
   "cell_type": "code",
   "execution_count": 1,
   "metadata": {
    "colab": {
     "base_uri": "https://localhost:8080/"
    },
    "id": "30SM5zf3_6ol",
    "outputId": "75504bb9-dae5-4774-9c56-61497025e869"
   },
   "outputs": [],
   "source": [
    "# from google.colab import drive\n",
    "# drive.mount('/content/drive')"
   ]
  },
  {
   "cell_type": "code",
   "execution_count": 2,
   "metadata": {
    "id": "wCZ_JnMhAfw5"
   },
   "outputs": [],
   "source": [
    "import numpy as np\n",
    "import os\n",
    "import time\n",
    "import pandas as pd\n",
    "from scipy import stats\n",
    "import matplotlib.pyplot as plt\n",
    "import seaborn as sns"
   ]
  },
  {
   "cell_type": "code",
   "execution_count": 3,
   "metadata": {
    "colab": {
     "base_uri": "https://localhost:8080/"
    },
    "id": "aRzDmNMQAkBK",
    "outputId": "80edc8c3-c101-49cd-ea46-cf82541538b9"
   },
   "outputs": [
    {
     "name": "stdout",
     "output_type": "stream",
     "text": [
      "..\\..\\dataset\\preprocesd_cicids.csv\n"
     ]
    }
   ],
   "source": [
    "DATASET_PATH='..\\..\\dataset\\preprocesd_cicids.csv'\n",
    "print(DATASET_PATH)"
   ]
  },
  {
   "cell_type": "code",
   "execution_count": 4,
   "metadata": {
    "colab": {
     "base_uri": "https://localhost:8080/"
    },
    "id": "FM2cvkGbAmU-",
    "outputId": "9b1b3e43-a4ee-4634-b786-5de7b860065c"
   },
   "outputs": [
    {
     "name": "stdout",
     "output_type": "stream",
     "text": [
      "Time taken to load the data:  34.21541118621826  seconds\n"
     ]
    }
   ],
   "source": [
    "# ,nrows=10000, header=0\n",
    "start = time.time()\n",
    "df=pd.read_csv(DATASET_PATH)\n",
    "df.head()\n",
    "print(\"Time taken to load the data: \", time.time()-start,\" seconds\")"
   ]
  },
  {
   "cell_type": "code",
   "execution_count": 5,
   "metadata": {
    "id": "1NcEVXbMEP9P"
   },
   "outputs": [],
   "source": [
    "df.to_feather('output.feather')"
   ]
  },
  {
   "cell_type": "code",
   "execution_count": 6,
   "metadata": {
    "colab": {
     "base_uri": "https://localhost:8080/",
     "height": 325
    },
    "id": "M9nQG-KqEhgj",
    "outputId": "c87d2424-8444-4070-f79b-d8398911baf3"
   },
   "outputs": [
    {
     "name": "stdout",
     "output_type": "stream",
     "text": [
      "Time taken to load the data:  1.6995484828948975  seconds\n"
     ]
    },
    {
     "data": {
      "text/html": [
       "<div>\n",
       "<style scoped>\n",
       "    .dataframe tbody tr th:only-of-type {\n",
       "        vertical-align: middle;\n",
       "    }\n",
       "\n",
       "    .dataframe tbody tr th {\n",
       "        vertical-align: top;\n",
       "    }\n",
       "\n",
       "    .dataframe thead th {\n",
       "        text-align: right;\n",
       "    }\n",
       "</style>\n",
       "<table border=\"1\" class=\"dataframe\">\n",
       "  <thead>\n",
       "    <tr style=\"text-align: right;\">\n",
       "      <th></th>\n",
       "      <th>Destination Port</th>\n",
       "      <th>Flow Duration</th>\n",
       "      <th>Total Fwd Packets</th>\n",
       "      <th>Total Backward Packets</th>\n",
       "      <th>Total Length of Fwd Packets</th>\n",
       "      <th>Total Length of Bwd Packets</th>\n",
       "      <th>Fwd Packet Length Max</th>\n",
       "      <th>Fwd Packet Length Min</th>\n",
       "      <th>Fwd Packet Length Mean</th>\n",
       "      <th>Fwd Packet Length Std</th>\n",
       "      <th>...</th>\n",
       "      <th>min_seg_size_forward</th>\n",
       "      <th>Active Mean</th>\n",
       "      <th>Active Std</th>\n",
       "      <th>Active Max</th>\n",
       "      <th>Active Min</th>\n",
       "      <th>Idle Mean</th>\n",
       "      <th>Idle Std</th>\n",
       "      <th>Idle Max</th>\n",
       "      <th>Idle Min</th>\n",
       "      <th>Label</th>\n",
       "    </tr>\n",
       "  </thead>\n",
       "  <tbody>\n",
       "    <tr>\n",
       "      <th>0</th>\n",
       "      <td>54865</td>\n",
       "      <td>3</td>\n",
       "      <td>2</td>\n",
       "      <td>0</td>\n",
       "      <td>12</td>\n",
       "      <td>0</td>\n",
       "      <td>6</td>\n",
       "      <td>6</td>\n",
       "      <td>6.0</td>\n",
       "      <td>0.0</td>\n",
       "      <td>...</td>\n",
       "      <td>20</td>\n",
       "      <td>0.0</td>\n",
       "      <td>0.0</td>\n",
       "      <td>0</td>\n",
       "      <td>0</td>\n",
       "      <td>0.0</td>\n",
       "      <td>0.0</td>\n",
       "      <td>0</td>\n",
       "      <td>0</td>\n",
       "      <td>BENIGN</td>\n",
       "    </tr>\n",
       "    <tr>\n",
       "      <th>1</th>\n",
       "      <td>55054</td>\n",
       "      <td>109</td>\n",
       "      <td>1</td>\n",
       "      <td>1</td>\n",
       "      <td>6</td>\n",
       "      <td>6</td>\n",
       "      <td>6</td>\n",
       "      <td>6</td>\n",
       "      <td>6.0</td>\n",
       "      <td>0.0</td>\n",
       "      <td>...</td>\n",
       "      <td>20</td>\n",
       "      <td>0.0</td>\n",
       "      <td>0.0</td>\n",
       "      <td>0</td>\n",
       "      <td>0</td>\n",
       "      <td>0.0</td>\n",
       "      <td>0.0</td>\n",
       "      <td>0</td>\n",
       "      <td>0</td>\n",
       "      <td>BENIGN</td>\n",
       "    </tr>\n",
       "    <tr>\n",
       "      <th>2</th>\n",
       "      <td>55055</td>\n",
       "      <td>52</td>\n",
       "      <td>1</td>\n",
       "      <td>1</td>\n",
       "      <td>6</td>\n",
       "      <td>6</td>\n",
       "      <td>6</td>\n",
       "      <td>6</td>\n",
       "      <td>6.0</td>\n",
       "      <td>0.0</td>\n",
       "      <td>...</td>\n",
       "      <td>20</td>\n",
       "      <td>0.0</td>\n",
       "      <td>0.0</td>\n",
       "      <td>0</td>\n",
       "      <td>0</td>\n",
       "      <td>0.0</td>\n",
       "      <td>0.0</td>\n",
       "      <td>0</td>\n",
       "      <td>0</td>\n",
       "      <td>BENIGN</td>\n",
       "    </tr>\n",
       "    <tr>\n",
       "      <th>3</th>\n",
       "      <td>46236</td>\n",
       "      <td>34</td>\n",
       "      <td>1</td>\n",
       "      <td>1</td>\n",
       "      <td>6</td>\n",
       "      <td>6</td>\n",
       "      <td>6</td>\n",
       "      <td>6</td>\n",
       "      <td>6.0</td>\n",
       "      <td>0.0</td>\n",
       "      <td>...</td>\n",
       "      <td>20</td>\n",
       "      <td>0.0</td>\n",
       "      <td>0.0</td>\n",
       "      <td>0</td>\n",
       "      <td>0</td>\n",
       "      <td>0.0</td>\n",
       "      <td>0.0</td>\n",
       "      <td>0</td>\n",
       "      <td>0</td>\n",
       "      <td>BENIGN</td>\n",
       "    </tr>\n",
       "    <tr>\n",
       "      <th>4</th>\n",
       "      <td>54863</td>\n",
       "      <td>3</td>\n",
       "      <td>2</td>\n",
       "      <td>0</td>\n",
       "      <td>12</td>\n",
       "      <td>0</td>\n",
       "      <td>6</td>\n",
       "      <td>6</td>\n",
       "      <td>6.0</td>\n",
       "      <td>0.0</td>\n",
       "      <td>...</td>\n",
       "      <td>20</td>\n",
       "      <td>0.0</td>\n",
       "      <td>0.0</td>\n",
       "      <td>0</td>\n",
       "      <td>0</td>\n",
       "      <td>0.0</td>\n",
       "      <td>0.0</td>\n",
       "      <td>0</td>\n",
       "      <td>0</td>\n",
       "      <td>BENIGN</td>\n",
       "    </tr>\n",
       "  </tbody>\n",
       "</table>\n",
       "<p>5 rows × 79 columns</p>\n",
       "</div>"
      ],
      "text/plain": [
       "    Destination Port   Flow Duration   Total Fwd Packets  \\\n",
       "0              54865               3                   2   \n",
       "1              55054             109                   1   \n",
       "2              55055              52                   1   \n",
       "3              46236              34                   1   \n",
       "4              54863               3                   2   \n",
       "\n",
       "    Total Backward Packets  Total Length of Fwd Packets  \\\n",
       "0                        0                           12   \n",
       "1                        1                            6   \n",
       "2                        1                            6   \n",
       "3                        1                            6   \n",
       "4                        0                           12   \n",
       "\n",
       "    Total Length of Bwd Packets   Fwd Packet Length Max  \\\n",
       "0                             0                       6   \n",
       "1                             6                       6   \n",
       "2                             6                       6   \n",
       "3                             6                       6   \n",
       "4                             0                       6   \n",
       "\n",
       "    Fwd Packet Length Min   Fwd Packet Length Mean   Fwd Packet Length Std  \\\n",
       "0                       6                      6.0                     0.0   \n",
       "1                       6                      6.0                     0.0   \n",
       "2                       6                      6.0                     0.0   \n",
       "3                       6                      6.0                     0.0   \n",
       "4                       6                      6.0                     0.0   \n",
       "\n",
       "   ...   min_seg_size_forward  Active Mean   Active Std   Active Max  \\\n",
       "0  ...                     20          0.0          0.0            0   \n",
       "1  ...                     20          0.0          0.0            0   \n",
       "2  ...                     20          0.0          0.0            0   \n",
       "3  ...                     20          0.0          0.0            0   \n",
       "4  ...                     20          0.0          0.0            0   \n",
       "\n",
       "    Active Min  Idle Mean   Idle Std   Idle Max   Idle Min   Label  \n",
       "0            0        0.0        0.0          0          0  BENIGN  \n",
       "1            0        0.0        0.0          0          0  BENIGN  \n",
       "2            0        0.0        0.0          0          0  BENIGN  \n",
       "3            0        0.0        0.0          0          0  BENIGN  \n",
       "4            0        0.0        0.0          0          0  BENIGN  \n",
       "\n",
       "[5 rows x 79 columns]"
      ]
     },
     "execution_count": 6,
     "metadata": {},
     "output_type": "execute_result"
    }
   ],
   "source": [
    "import pyarrow.feather as feather\n",
    "\n",
    "# Read the Feather file into a pandas DataFrame\n",
    "start = time.time()\n",
    "df = feather.read_feather('./output.feather')\n",
    "print(\"Time taken to load the data: \", time.time()-start,\" seconds\")\n",
    "# Display the DataFrame\n",
    "df.head()"
   ]
  },
  {
   "cell_type": "code",
   "execution_count": 7,
   "metadata": {
    "colab": {
     "base_uri": "https://localhost:8080/"
    },
    "id": "lT8SK5FlF_4q",
    "outputId": "8967896d-1686-45d0-a8f0-e2da9af5fdbe"
   },
   "outputs": [
    {
     "data": {
      "text/plain": [
       "(2520798, 79)"
      ]
     },
     "execution_count": 7,
     "metadata": {},
     "output_type": "execute_result"
    }
   ],
   "source": [
    "df.shape"
   ]
  },
  {
   "cell_type": "code",
   "execution_count": 8,
   "metadata": {
    "id": "R4NN-dKRGS8V"
   },
   "outputs": [],
   "source": [
    "def correlation(dataset, threshold):\n",
    "    col_corr = set()\n",
    "    corr_matrix = dataset.corr(numeric_only=True)\n",
    "    for i in range(len(corr_matrix.columns)):\n",
    "        for j in range(i):\n",
    "            if abs(corr_matrix.iloc[i, j]) > threshold:\n",
    "              colname = corr_matrix.columns[i]\n",
    "              col_corr.add(colname)\n",
    "    return col_corr"
   ]
  },
  {
   "cell_type": "code",
   "execution_count": 9,
   "metadata": {
    "colab": {
     "base_uri": "https://localhost:8080/"
    },
    "id": "CfMuIW0BGX6c",
    "outputId": "9f6dbdbb-8c5d-4b88-96e9-f90fe9d80310"
   },
   "outputs": [
    {
     "data": {
      "text/plain": [
       "{' Active Min',\n",
       " ' Average Packet Size',\n",
       " ' Avg Bwd Segment Size',\n",
       " ' Avg Fwd Segment Size',\n",
       " ' Bwd IAT Min',\n",
       " ' Bwd Packet Length Mean',\n",
       " ' Bwd Packet Length Std',\n",
       " ' CWE Flag Count',\n",
       " ' ECE Flag Count',\n",
       " ' Flow IAT Max',\n",
       " ' Fwd Header Length.1',\n",
       " ' Fwd IAT Max',\n",
       " ' Fwd IAT Mean',\n",
       " ' Fwd IAT Min',\n",
       " ' Fwd IAT Std',\n",
       " ' Fwd Packet Length Mean',\n",
       " ' Fwd Packet Length Std',\n",
       " ' Idle Max',\n",
       " ' Idle Min',\n",
       " ' Max Packet Length',\n",
       " ' Packet Length Mean',\n",
       " ' Packet Length Std',\n",
       " ' Packet Length Variance',\n",
       " ' SYN Flag Count',\n",
       " ' Subflow Bwd Bytes',\n",
       " ' Subflow Bwd Packets',\n",
       " ' Subflow Fwd Bytes',\n",
       " ' Total Backward Packets',\n",
       " ' Total Length of Bwd Packets',\n",
       " ' act_data_pkt_fwd',\n",
       " ' min_seg_size_forward',\n",
       " 'Fwd IAT Total',\n",
       " 'Fwd Packets/s',\n",
       " 'Idle Mean',\n",
       " 'Subflow Fwd Packets'}"
      ]
     },
     "execution_count": 9,
     "metadata": {},
     "output_type": "execute_result"
    }
   ],
   "source": [
    "corr_features = correlation(df, 0.85)\n",
    "corr_features"
   ]
  },
  {
   "cell_type": "code",
   "execution_count": 10,
   "metadata": {
    "id": "MEjuXiFPGnXh"
   },
   "outputs": [],
   "source": [
    "df.drop(corr_features,axis=1,inplace=True)"
   ]
  },
  {
   "cell_type": "code",
   "execution_count": 11,
   "metadata": {
    "colab": {
     "base_uri": "https://localhost:8080/"
    },
    "id": "sCNhJ7i4Lzn3",
    "outputId": "28ed315f-b685-43c6-8f37-6fb0e04178be"
   },
   "outputs": [
    {
     "data": {
      "text/plain": [
       "(2520798, 44)"
      ]
     },
     "execution_count": 11,
     "metadata": {},
     "output_type": "execute_result"
    }
   ],
   "source": [
    "df.shape"
   ]
  },
  {
   "cell_type": "code",
   "execution_count": 12,
   "metadata": {
    "colab": {
     "base_uri": "https://localhost:8080/"
    },
    "id": "74rSJfeIL4Qf",
    "outputId": "96fa1d1d-bbf6-42db-a118-1fd4501559d4"
   },
   "outputs": [
    {
     "name": "stdout",
     "output_type": "stream",
     "text": [
      "['Bot', 'Web Attack � Brute Force', 'Web Attack � XSS', 'Infiltration', 'Web Attack � Sql Injection', 'Heartbleed']\n"
     ]
    }
   ],
   "source": [
    "# create a Series with the count of rows in each group\n",
    "label_counts = df[' Label'].value_counts()\n",
    "\n",
    "# create a list of labels that have less than 10,000 rows\n",
    "labels_to_merge = label_counts[label_counts < 3000].index.tolist()\n",
    "print(labels_to_merge)"
   ]
  },
  {
   "cell_type": "code",
   "execution_count": 13,
   "metadata": {
    "id": "x7f0hkkaL7tv"
   },
   "outputs": [],
   "source": [
    "# create a new label called 'Other' and merge the labels with less than 10,000 rows\n",
    "df[' Label'] = df[' Label'].apply(lambda x: 'Other' if x in labels_to_merge else x)\n",
    "# group the rows by the new 'Label' column\n",
    "grouped_df = df.groupby(' Label')"
   ]
  },
  {
   "cell_type": "code",
   "execution_count": 14,
   "metadata": {
    "colab": {
     "base_uri": "https://localhost:8080/"
    },
    "id": "TluOlXyML_Fe",
    "outputId": "869b7aa1-d50d-4dfc-dce4-ceb1a369d314"
   },
   "outputs": [
    {
     "data": {
      "text/plain": [
       "(2520798, 44)"
      ]
     },
     "execution_count": 14,
     "metadata": {},
     "output_type": "execute_result"
    }
   ],
   "source": [
    "df.shape"
   ]
  },
  {
   "cell_type": "code",
   "execution_count": 15,
   "metadata": {
    "colab": {
     "base_uri": "https://localhost:8080/",
     "height": 429
    },
    "id": "1RJEfLwqR_Gg",
    "outputId": "9dd1c4c1-332e-463b-e127-d92d005b03c4"
   },
   "outputs": [
    {
     "data": {
      "text/plain": [
       " Label\n",
       "BENIGN              2095057\n",
       "DoS Hulk             172846\n",
       "DDoS                 128014\n",
       "PortScan              90694\n",
       "DoS GoldenEye         10286\n",
       "FTP-Patator            5931\n",
       "DoS slowloris          5385\n",
       "DoS Slowhttptest       5228\n",
       "Other                  4138\n",
       "SSH-Patator            3219\n",
       "Name: count, dtype: int64"
      ]
     },
     "execution_count": 15,
     "metadata": {},
     "output_type": "execute_result"
    }
   ],
   "source": [
    "df[' Label'].value_counts()"
   ]
  },
  {
   "cell_type": "code",
   "execution_count": 16,
   "metadata": {
    "id": "QKkY3UxUSFVe"
   },
   "outputs": [],
   "source": [
    "x = df.drop([' Label'],axis=1)\n",
    "y = df[' Label']"
   ]
  },
  {
   "cell_type": "code",
   "execution_count": 17,
   "metadata": {
    "id": "AYXyBkXTSHnB"
   },
   "outputs": [],
   "source": [
    "from imblearn.under_sampling import RandomUnderSampler\n",
    "rus = RandomUnderSampler(random_state=0)\n",
    "rus.fit(x, y)\n",
    "Xn, yn = rus.fit_resample(x, y)\n",
    "# Xn.value_counts()"
   ]
  },
  {
   "cell_type": "code",
   "execution_count": 18,
   "metadata": {
    "colab": {
     "base_uri": "https://localhost:8080/"
    },
    "id": "DlYS2KYlSMD5",
    "outputId": "bb9defca-a360-44d0-942e-e48f5bbd5a30"
   },
   "outputs": [
    {
     "data": {
      "text/plain": [
       "(32190, 43)"
      ]
     },
     "execution_count": 18,
     "metadata": {},
     "output_type": "execute_result"
    }
   ],
   "source": [
    "Xn.shape"
   ]
  },
  {
   "cell_type": "code",
   "execution_count": 19,
   "metadata": {
    "colab": {
     "base_uri": "https://localhost:8080/"
    },
    "id": "c0afJu9kSRTL",
    "outputId": "3e55154e-d0c8-4373-89a3-af719b8583c6"
   },
   "outputs": [
    {
     "data": {
      "text/plain": [
       "(32190,)"
      ]
     },
     "execution_count": 19,
     "metadata": {},
     "output_type": "execute_result"
    }
   ],
   "source": [
    "yn.shape"
   ]
  },
  {
   "cell_type": "code",
   "execution_count": 20,
   "metadata": {
    "colab": {
     "base_uri": "https://localhost:8080/",
     "height": 429
    },
    "id": "jAtxrJMASUac",
    "outputId": "886819c9-3b77-427f-f953-899cc9d75d8d"
   },
   "outputs": [
    {
     "data": {
      "text/plain": [
       " Label\n",
       "BENIGN              3219\n",
       "DDoS                3219\n",
       "DoS GoldenEye       3219\n",
       "DoS Hulk            3219\n",
       "DoS Slowhttptest    3219\n",
       "DoS slowloris       3219\n",
       "FTP-Patator         3219\n",
       "Other               3219\n",
       "PortScan            3219\n",
       "SSH-Patator         3219\n",
       "Name: count, dtype: int64"
      ]
     },
     "execution_count": 20,
     "metadata": {},
     "output_type": "execute_result"
    }
   ],
   "source": [
    "yn.value_counts()"
   ]
  },
  {
   "cell_type": "code",
   "execution_count": 21,
   "metadata": {
    "id": "zw_-owe7SaIp"
   },
   "outputs": [],
   "source": [
    "#z-score   z = (x - mean) / std\n",
    "# it can make it easier for the algorithm to learn meaningful patterns in the data\n",
    "cols = list(Xn.columns)\n",
    "for col in cols:\n",
    "    Xn[col] = stats.zscore(Xn[col])"
   ]
  },
  {
   "cell_type": "code",
   "execution_count": 22,
   "metadata": {
    "colab": {
     "base_uri": "https://localhost:8080/",
     "height": 307
    },
    "id": "jHuaV_onTG4b",
    "outputId": "fd1dbf99-4248-4246-e073-6d0e567c84c3"
   },
   "outputs": [
    {
     "data": {
      "text/html": [
       "<div>\n",
       "<style scoped>\n",
       "    .dataframe tbody tr th:only-of-type {\n",
       "        vertical-align: middle;\n",
       "    }\n",
       "\n",
       "    .dataframe tbody tr th {\n",
       "        vertical-align: top;\n",
       "    }\n",
       "\n",
       "    .dataframe thead th {\n",
       "        text-align: right;\n",
       "    }\n",
       "</style>\n",
       "<table border=\"1\" class=\"dataframe\">\n",
       "  <thead>\n",
       "    <tr style=\"text-align: right;\">\n",
       "      <th></th>\n",
       "      <th>Destination Port</th>\n",
       "      <th>Flow Duration</th>\n",
       "      <th>Total Fwd Packets</th>\n",
       "      <th>Total Length of Fwd Packets</th>\n",
       "      <th>Fwd Packet Length Max</th>\n",
       "      <th>Fwd Packet Length Min</th>\n",
       "      <th>Bwd Packet Length Max</th>\n",
       "      <th>Bwd Packet Length Min</th>\n",
       "      <th>Flow Bytes/s</th>\n",
       "      <th>Flow Packets/s</th>\n",
       "      <th>...</th>\n",
       "      <th>Fwd Avg Bulk Rate</th>\n",
       "      <th>Bwd Avg Bytes/Bulk</th>\n",
       "      <th>Bwd Avg Packets/Bulk</th>\n",
       "      <th>Bwd Avg Bulk Rate</th>\n",
       "      <th>Init_Win_bytes_forward</th>\n",
       "      <th>Init_Win_bytes_backward</th>\n",
       "      <th>Active Mean</th>\n",
       "      <th>Active Std</th>\n",
       "      <th>Active Max</th>\n",
       "      <th>Idle Std</th>\n",
       "    </tr>\n",
       "  </thead>\n",
       "  <tbody>\n",
       "    <tr>\n",
       "      <th>1029337</th>\n",
       "      <td>-0.263616</td>\n",
       "      <td>-0.707781</td>\n",
       "      <td>-0.069969</td>\n",
       "      <td>-0.037641</td>\n",
       "      <td>-0.278349</td>\n",
       "      <td>0.352479</td>\n",
       "      <td>-0.530286</td>\n",
       "      <td>2.687514</td>\n",
       "      <td>-0.022664</td>\n",
       "      <td>-0.158127</td>\n",
       "      <td>...</td>\n",
       "      <td>NaN</td>\n",
       "      <td>NaN</td>\n",
       "      <td>NaN</td>\n",
       "      <td>NaN</td>\n",
       "      <td>-1.116079</td>\n",
       "      <td>-0.276731</td>\n",
       "      <td>-0.332643</td>\n",
       "      <td>-0.198419</td>\n",
       "      <td>-0.342221</td>\n",
       "      <td>-0.280617</td>\n",
       "    </tr>\n",
       "    <tr>\n",
       "      <th>2454275</th>\n",
       "      <td>5.566419</td>\n",
       "      <td>-0.709415</td>\n",
       "      <td>-0.120401</td>\n",
       "      <td>-0.042799</td>\n",
       "      <td>-0.324996</td>\n",
       "      <td>-0.115027</td>\n",
       "      <td>-0.563196</td>\n",
       "      <td>-0.188982</td>\n",
       "      <td>-0.023023</td>\n",
       "      <td>0.067566</td>\n",
       "      <td>...</td>\n",
       "      <td>NaN</td>\n",
       "      <td>NaN</td>\n",
       "      <td>NaN</td>\n",
       "      <td>NaN</td>\n",
       "      <td>-1.052714</td>\n",
       "      <td>-0.244825</td>\n",
       "      <td>-0.332643</td>\n",
       "      <td>-0.198419</td>\n",
       "      <td>-0.342221</td>\n",
       "      <td>-0.280617</td>\n",
       "    </tr>\n",
       "    <tr>\n",
       "      <th>440854</th>\n",
       "      <td>-0.260863</td>\n",
       "      <td>2.309030</td>\n",
       "      <td>0.131756</td>\n",
       "      <td>-0.023235</td>\n",
       "      <td>0.247642</td>\n",
       "      <td>-0.115027</td>\n",
       "      <td>-0.442882</td>\n",
       "      <td>-0.188982</td>\n",
       "      <td>-0.023022</td>\n",
       "      <td>-0.159054</td>\n",
       "      <td>...</td>\n",
       "      <td>NaN</td>\n",
       "      <td>NaN</td>\n",
       "      <td>NaN</td>\n",
       "      <td>NaN</td>\n",
       "      <td>-0.543073</td>\n",
       "      <td>0.380396</td>\n",
       "      <td>-0.306772</td>\n",
       "      <td>-0.168252</td>\n",
       "      <td>-0.277858</td>\n",
       "      <td>-0.278543</td>\n",
       "    </tr>\n",
       "    <tr>\n",
       "      <th>438438</th>\n",
       "      <td>-0.223847</td>\n",
       "      <td>-0.561542</td>\n",
       "      <td>-0.002728</td>\n",
       "      <td>-0.025147</td>\n",
       "      <td>0.022447</td>\n",
       "      <td>-0.115027</td>\n",
       "      <td>-0.046554</td>\n",
       "      <td>-0.188982</td>\n",
       "      <td>-0.022969</td>\n",
       "      <td>-0.159033</td>\n",
       "      <td>...</td>\n",
       "      <td>NaN</td>\n",
       "      <td>NaN</td>\n",
       "      <td>NaN</td>\n",
       "      <td>NaN</td>\n",
       "      <td>-0.543073</td>\n",
       "      <td>-0.260084</td>\n",
       "      <td>-0.182565</td>\n",
       "      <td>-0.198419</td>\n",
       "      <td>-0.218966</td>\n",
       "      <td>-0.280617</td>\n",
       "    </tr>\n",
       "    <tr>\n",
       "      <th>2307425</th>\n",
       "      <td>-0.263616</td>\n",
       "      <td>-0.708802</td>\n",
       "      <td>-0.120401</td>\n",
       "      <td>-0.040664</td>\n",
       "      <td>-0.247787</td>\n",
       "      <td>0.658776</td>\n",
       "      <td>-0.517901</td>\n",
       "      <td>3.770066</td>\n",
       "      <td>-0.022467</td>\n",
       "      <td>-0.158233</td>\n",
       "      <td>...</td>\n",
       "      <td>NaN</td>\n",
       "      <td>NaN</td>\n",
       "      <td>NaN</td>\n",
       "      <td>NaN</td>\n",
       "      <td>-1.116079</td>\n",
       "      <td>-0.276731</td>\n",
       "      <td>-0.332643</td>\n",
       "      <td>-0.198419</td>\n",
       "      <td>-0.342221</td>\n",
       "      <td>-0.280617</td>\n",
       "    </tr>\n",
       "  </tbody>\n",
       "</table>\n",
       "<p>5 rows × 43 columns</p>\n",
       "</div>"
      ],
      "text/plain": [
       "          Destination Port   Flow Duration   Total Fwd Packets  \\\n",
       "1029337          -0.263616       -0.707781           -0.069969   \n",
       "2454275           5.566419       -0.709415           -0.120401   \n",
       "440854           -0.260863        2.309030            0.131756   \n",
       "438438           -0.223847       -0.561542           -0.002728   \n",
       "2307425          -0.263616       -0.708802           -0.120401   \n",
       "\n",
       "         Total Length of Fwd Packets   Fwd Packet Length Max  \\\n",
       "1029337                    -0.037641               -0.278349   \n",
       "2454275                    -0.042799               -0.324996   \n",
       "440854                     -0.023235                0.247642   \n",
       "438438                     -0.025147                0.022447   \n",
       "2307425                    -0.040664               -0.247787   \n",
       "\n",
       "          Fwd Packet Length Min  Bwd Packet Length Max  \\\n",
       "1029337                0.352479              -0.530286   \n",
       "2454275               -0.115027              -0.563196   \n",
       "440854                -0.115027              -0.442882   \n",
       "438438                -0.115027              -0.046554   \n",
       "2307425                0.658776              -0.517901   \n",
       "\n",
       "          Bwd Packet Length Min  Flow Bytes/s   Flow Packets/s  ...  \\\n",
       "1029337                2.687514     -0.022664        -0.158127  ...   \n",
       "2454275               -0.188982     -0.023023         0.067566  ...   \n",
       "440854                -0.188982     -0.023022        -0.159054  ...   \n",
       "438438                -0.188982     -0.022969        -0.159033  ...   \n",
       "2307425                3.770066     -0.022467        -0.158233  ...   \n",
       "\n",
       "          Fwd Avg Bulk Rate   Bwd Avg Bytes/Bulk   Bwd Avg Packets/Bulk  \\\n",
       "1029337                 NaN                  NaN                    NaN   \n",
       "2454275                 NaN                  NaN                    NaN   \n",
       "440854                  NaN                  NaN                    NaN   \n",
       "438438                  NaN                  NaN                    NaN   \n",
       "2307425                 NaN                  NaN                    NaN   \n",
       "\n",
       "         Bwd Avg Bulk Rate  Init_Win_bytes_forward   Init_Win_bytes_backward  \\\n",
       "1029337                NaN               -1.116079                 -0.276731   \n",
       "2454275                NaN               -1.052714                 -0.244825   \n",
       "440854                 NaN               -0.543073                  0.380396   \n",
       "438438                 NaN               -0.543073                 -0.260084   \n",
       "2307425                NaN               -1.116079                 -0.276731   \n",
       "\n",
       "         Active Mean   Active Std   Active Max   Idle Std  \n",
       "1029337    -0.332643    -0.198419    -0.342221  -0.280617  \n",
       "2454275    -0.332643    -0.198419    -0.342221  -0.280617  \n",
       "440854     -0.306772    -0.168252    -0.277858  -0.278543  \n",
       "438438     -0.182565    -0.198419    -0.218966  -0.280617  \n",
       "2307425    -0.332643    -0.198419    -0.342221  -0.280617  \n",
       "\n",
       "[5 rows x 43 columns]"
      ]
     },
     "execution_count": 22,
     "metadata": {},
     "output_type": "execute_result"
    }
   ],
   "source": [
    "Xn.head()"
   ]
  },
  {
   "cell_type": "code",
   "execution_count": 23,
   "metadata": {
    "id": "UFIskZvtTLqs"
   },
   "outputs": [],
   "source": [
    "from sklearn.model_selection import  train_test_split\n",
    "X_train, X_test, Y_train, Y_test = train_test_split(Xn,yn,test_size=0.20,random_state=0)"
   ]
  },
  {
   "cell_type": "code",
   "execution_count": 24,
   "metadata": {
    "colab": {
     "base_uri": "https://localhost:8080/"
    },
    "id": "J40v80mhTSNL",
    "outputId": "18656739-0296-430f-c276-1405c84eed4e"
   },
   "outputs": [
    {
     "name": "stdout",
     "output_type": "stream",
     "text": [
      "True\n",
      "False\n"
     ]
    }
   ],
   "source": [
    "print(np.any(np.isnan(X_train)))\n",
    "print(np.all(np.isfinite(X_train)))"
   ]
  },
  {
   "cell_type": "code",
   "execution_count": 25,
   "metadata": {
    "colab": {
     "base_uri": "https://localhost:8080/"
    },
    "id": "eXSUoBEUTYC3",
    "outputId": "9ab2c499-df1a-4a02-9f6c-abcc7aa16e7e"
   },
   "outputs": [],
   "source": [
    "from sklearn.impute import SimpleImputer\n",
    "from sklearn.preprocessing import StandardScaler\n",
    "\n",
    "# Create an instance of SimpleImputer with 'mean' strategy to replace NaN values\n",
    "imputer = SimpleImputer(strategy='mean', keep_empty_features=True)\n",
    "\n",
    "# Fit the imputer to X_train and transform X_train and X_test with it\n",
    "X_train = imputer.fit_transform(X_train)\n",
    "X_test = imputer.transform(X_test)\n",
    "\n",
    "# Apply StandardScaler to X_train and X_test\n",
    "scaler = StandardScaler()\n",
    "X_train = scaler.fit_transform(X_train)\n",
    "X_test = scaler.transform(X_test)"
   ]
  },
  {
   "cell_type": "code",
   "execution_count": 26,
   "metadata": {
    "colab": {
     "base_uri": "https://localhost:8080/"
    },
    "id": "RM_f2M6nTZpr",
    "outputId": "b391e749-c66a-4895-adc0-a3c461d41e33"
   },
   "outputs": [
    {
     "name": "stdout",
     "output_type": "stream",
     "text": [
      "Time taken to train model:  0.04434347152709961  seconds\n"
     ]
    }
   ],
   "source": [
    "from sklearn.neighbors import KNeighborsClassifier\n",
    "# model training USING KNN (suppor vector machine)\n",
    "start = time.time()\n",
    "k = 10 # number of nearest neighbors to consider\n",
    "knn = KNeighborsClassifier(n_neighbors=k)\n",
    "knn.fit(X_train, Y_train)\n",
    "print(\"Time taken to train model: \", time.time()-start,\" seconds\")"
   ]
  },
  {
   "cell_type": "code",
   "execution_count": 27,
   "metadata": {
    "colab": {
     "base_uri": "https://localhost:8080/"
    },
    "id": "i95JAqpDUbq6",
    "outputId": "d332bd68-0909-4d9e-8b66-bdb4d2295487"
   },
   "outputs": [
    {
     "name": "stdout",
     "output_type": "stream",
     "text": [
      "Time taken to for performance matric calculation:  6.9465742111206055  seconds\n"
     ]
    }
   ],
   "source": [
    "from sklearn.model_selection import cross_val_score\n",
    "from sklearn import metrics\n",
    "\n",
    "\n",
    "# performance metrics calculation of our model over training data set\n",
    "start = time.time()\n",
    "Predict_X =  knn.predict(X_train)\n",
    "scores = cross_val_score(knn, X_train, Y_train, cv=7)\n",
    "accuracy = metrics.accuracy_score(Y_train,Predict_X)\n",
    "confusion_matrix = metrics.confusion_matrix(Y_train, Predict_X)\n",
    "classification = metrics.classification_report(Y_train, Predict_X, digits=3)\n",
    "print(\"Time taken to for performance matric calculation: \", time.time()-start,\" seconds\")"
   ]
  },
  {
   "cell_type": "code",
   "execution_count": 28,
   "metadata": {
    "colab": {
     "base_uri": "https://localhost:8080/"
    },
    "id": "jP-0kYN4UxIp",
    "outputId": "2c24c2f7-99ce-447e-9796-bd263ee4f3c4"
   },
   "outputs": [
    {
     "name": "stdout",
     "output_type": "stream",
     "text": [
      "\n",
      "--------------------------- Results --------------------------------\n",
      "\n",
      "Cross Validation Mean Score:\n",
      " 0.9792637915638396\n",
      "\n",
      "Model Accuracy:\n",
      " 0.9835352593973283\n",
      "\n",
      "Confusion matrix:\n",
      " [[2383    4   17   15   12    6   11   76   43   14]\n",
      " [   2 2592    2    5    0    0    0    0    0    0]\n",
      " [   0    0 2581    2    2    1    3    0    0    0]\n",
      " [   9    2    8 2564    0    0    0    1    0    0]\n",
      " [   4    0    1    0 2535   15    0    4    0    4]\n",
      " [   5    0    3    0   14 2570    0    0    0    1]\n",
      " [   6    0    0    0    0    4 2487    0    1    1]\n",
      " [  12    1   16    0    0    0    1 2510    8   38]\n",
      " [   5    0    1    3    0    6    0    3 2538    0]\n",
      " [   9    0    3    3    0    4    5    7    1 2568]]\n",
      "\n",
      "Classification report:\n",
      "                   precision    recall  f1-score   support\n",
      "\n",
      "          BENIGN      0.979     0.923     0.950      2581\n",
      "            DDoS      0.997     0.997     0.997      2601\n",
      "   DoS GoldenEye      0.981     0.997     0.989      2589\n",
      "        DoS Hulk      0.989     0.992     0.991      2584\n",
      "DoS Slowhttptest      0.989     0.989     0.989      2563\n",
      "   DoS slowloris      0.986     0.991     0.989      2593\n",
      "     FTP-Patator      0.992     0.995     0.994      2499\n",
      "           Other      0.965     0.971     0.968      2586\n",
      "        PortScan      0.980     0.993     0.986      2556\n",
      "     SSH-Patator      0.978     0.988     0.983      2600\n",
      "\n",
      "        accuracy                          0.984     25752\n",
      "       macro avg      0.984     0.984     0.983     25752\n",
      "    weighted avg      0.984     0.984     0.983     25752\n",
      "\n",
      "\n"
     ]
    }
   ],
   "source": [
    "print()\n",
    "print('--------------------------- Results --------------------------------')\n",
    "print()\n",
    "print (\"Cross Validation Mean Score:\" \"\\n\", scores.mean())\n",
    "print()\n",
    "print (\"Model Accuracy:\" \"\\n\", accuracy)\n",
    "print()\n",
    "print(\"Confusion matrix:\" \"\\n\", confusion_matrix)\n",
    "print()\n",
    "print(\"Classification report:\" \"\\n\", classification)\n",
    "print()"
   ]
  },
  {
   "cell_type": "code",
   "execution_count": 29,
   "metadata": {
    "id": "sDsOIq-LU3MN"
   },
   "outputs": [],
   "source": [
    "def plot_confusion_matrix(cm,title,cmap=None,target=None,normalize=False):\n",
    "\n",
    "    import itertools\n",
    "    accuracy = np.trace(cm) / float(np.sum(cm))\n",
    "    misclass = 1 - accuracy\n",
    "\n",
    "    if cmap is None:\n",
    "        cmap = plt.get_cmap('viridis')\n",
    "    plt.figure(figsize=(20, 20))\n",
    "    plt.imshow(cm, interpolation='nearest', cmap=cmap)\n",
    "    plt.title(title)\n",
    "    plt.colorbar()\n",
    "\n",
    "    if target is not None:\n",
    "        ticks = np.arange(len(target))\n",
    "        plt.xticks(ticks, target, rotation=45)\n",
    "        plt.yticks(ticks, target)\n",
    "    if normalize:\n",
    "        cm = cm.astype('float') / cm.sum(axis=1)[:, np.newaxis]\n",
    "\n",
    "\n",
    "    thresh = cm.max() / 1.5 if normalize else cm.max() / 2\n",
    "    for i, j in itertools.product(range(cm.shape[0]), range(cm.shape[1])):\n",
    "        if normalize:\n",
    "            plt.text(j, i, \"{:0.4f}\".format(cm[i, j]),\n",
    "                     horizontalalignment=\"center\",\n",
    "                     color=\"black\" if cm[i, j] > thresh else \"white\")\n",
    "        else:\n",
    "            plt.text(j, i, \"{:,}\".format(cm[i, j]),\n",
    "                     horizontalalignment=\"center\",\n",
    "                     color=\"black\" if cm[i, j] > thresh else \"white\")\n",
    "    plt.grid(False)\n",
    "    plt.tight_layout()\n",
    "    plt.ylabel('True label')\n",
    "    plt.xlabel('Predicted label\\naccuracy={:0.4f}; misclass={:0.4f}'.format(accuracy, misclass))\n",
    "    plt.show()\n",
    "    plt.savefig(title, bbox_inches='tight', dpi=300)"
   ]
  },
  {
   "cell_type": "code",
   "execution_count": 30,
   "metadata": {
    "colab": {
     "base_uri": "https://localhost:8080/",
     "height": 1000
    },
    "id": "Jhzir2yyU_gZ",
    "outputId": "fa27bc44-7487-4d68-fa2b-026d625242a9"
   },
   "outputs": [
    {
     "data": {
      "image/png": "[encoded data removed]",
      "text/plain": [
       "<Figure size 2000x2000 with 2 Axes>"
      ]
     },
     "metadata": {},
     "output_type": "display_data"
    },
    {
     "data": {
      "text/plain": [
       "<Figure size 640x480 with 0 Axes>"
      ]
     },
     "metadata": {},
     "output_type": "display_data"
    }
   ],
   "source": [
    "plot_confusion_matrix(cm=confusion_matrix ,title= 'KNN Classifire')"
   ]
  },
  {
   "cell_type": "code",
   "execution_count": 31,
   "metadata": {
    "colab": {
     "base_uri": "https://localhost:8080/"
    },
    "id": "Yxw2LDXiVR0L",
    "outputId": "e2ccadaa-c1d7-47a6-9f1a-d1561fbc34de"
   },
   "outputs": [
    {
     "name": "stdout",
     "output_type": "stream",
     "text": [
      "Time taken to for performance matric calculation:  1.2910170555114746  seconds\n"
     ]
    }
   ],
   "source": [
    "# performance metrics calculation of our model over test data set\n",
    "start = time.time()\n",
    "Predict_X =  knn.predict(X_test)\n",
    "scores = cross_val_score(knn, X_test, Y_test, cv=7)\n",
    "accuracy = metrics.accuracy_score(Y_test,Predict_X)\n",
    "confusion_matrix = metrics.confusion_matrix(Y_test, Predict_X)\n",
    "classification = metrics.classification_report(Y_test, Predict_X, digits=3)\n",
    "print(\"Time taken to for performance matric calculation: \", time.time()-start,\" seconds\")"
   ]
  },
  {
   "cell_type": "code",
   "execution_count": 32,
   "metadata": {
    "colab": {
     "base_uri": "https://localhost:8080/"
    },
    "id": "Eyp4qxRyVa_M",
    "outputId": "81dee7c8-82c7-4f1b-c0de-62eb8642c7c9"
   },
   "outputs": [
    {
     "name": "stdout",
     "output_type": "stream",
     "text": [
      "\n",
      "--------------------------- Results --------------------------------\n",
      "\n",
      "Cross Validation Mean Score:\n",
      " 0.9568192877756676\n",
      "\n",
      "Model Accuracy:\n",
      " 0.9827586206896551\n",
      "\n",
      "Confusion matrix:\n",
      " [[588   2   6   4   5   4   1  13  11   4]\n",
      " [  2 614   1   1   0   0   0   0   0   0]\n",
      " [  0   0 629   1   0   0   0   0   0   0]\n",
      " [  0   0   2 633   0   0   0   0   0   0]\n",
      " [  2   0   0   0 642  10   0   2   0   0]\n",
      " [  1   0   0   0   2 621   0   2   0   0]\n",
      " [  1   0   0   0   0   0 718   0   0   1]\n",
      " [  4   0   4   1   0   0   0 612   1  11]\n",
      " [  1   0   1   1   0   0   0   0 660   0]\n",
      " [  1   0   2   0   0   0   3   3   0 610]]\n",
      "\n",
      "Classification report:\n",
      "                   precision    recall  f1-score   support\n",
      "\n",
      "          BENIGN      0.980     0.922     0.950       638\n",
      "            DDoS      0.997     0.994     0.995       618\n",
      "   DoS GoldenEye      0.975     0.998     0.987       630\n",
      "        DoS Hulk      0.988     0.997     0.992       635\n",
      "DoS Slowhttptest      0.989     0.979     0.984       656\n",
      "   DoS slowloris      0.978     0.992     0.985       626\n",
      "     FTP-Patator      0.994     0.997     0.996       720\n",
      "           Other      0.968     0.967     0.968       633\n",
      "        PortScan      0.982     0.995     0.989       663\n",
      "     SSH-Patator      0.974     0.985     0.980       619\n",
      "\n",
      "        accuracy                          0.983      6438\n",
      "       macro avg      0.983     0.983     0.982      6438\n",
      "    weighted avg      0.983     0.983     0.983      6438\n",
      "\n",
      "\n"
     ]
    }
   ],
   "source": [
    "print()\n",
    "print('--------------------------- Results --------------------------------')\n",
    "print()\n",
    "print (\"Cross Validation Mean Score:\" \"\\n\", scores.mean())\n",
    "print()\n",
    "print (\"Model Accuracy:\" \"\\n\", accuracy)\n",
    "print()\n",
    "print(\"Confusion matrix:\" \"\\n\", confusion_matrix)\n",
    "print()\n",
    "print(\"Classification report:\" \"\\n\", classification)\n",
    "print()"
   ]
  },
  {
   "cell_type": "code",
   "execution_count": 33,
   "metadata": {
    "colab": {
     "base_uri": "https://localhost:8080/",
     "height": 1000
    },
    "id": "qO7x5hofVjR-",
    "outputId": "28bbae9c-49be-4ffb-96b0-17686c0e5815"
   },
   "outputs": [
    {
     "data": {
      "image/png": "[encoded data removed]",
      "text/plain": [
       "<Figure size 2000x2000 with 2 Axes>"
      ]
     },
     "metadata": {},
     "output_type": "display_data"
    },
    {
     "data": {
      "text/plain": [
       "<Figure size 640x480 with 0 Axes>"
      ]
     },
     "metadata": {},
     "output_type": "display_data"
    }
   ],
   "source": [
    "plot_confusion_matrix(cm=confusion_matrix ,title= 'KNN Classifire')"
   ]
  },
  {
   "cell_type": "code",
   "execution_count": 34,
   "metadata": {},
   "outputs": [
    {
     "name": "stdout",
     "output_type": "stream",
     "text": [
      "Model saved as 'knn_model.joblib'\n"
     ]
    }
   ],
   "source": [
    "# %% [Lưu mô hình]\n",
    "import joblib\n",
    "\n",
    "# Lưu mô hình KNN đã huấn luyện\n",
    "joblib.dump(knn, 'knn_model.joblib')\n",
    "print(\"Model saved as 'knn_model.joblib'\")\n"
   ]
  }
 ],
 "metadata": {
  "colab": {
   "provenance": []
  },
  "kernelspec": {
   "display_name": "venvattt",
   "language": "python",
   "name": "python3"
  },
  "language_info": {
   "codemirror_mode": {
    "name": "ipython",
    "version": 3
   },
   "file_extension": ".py",
   "mimetype": "text/x-python",
   "name": "python",
   "nbconvert_exporter": "python",
   "pygments_lexer": "ipython3",
   "version": "3.10.10"
  }
 },
 "nbformat": 4,
 "nbformat_minor": 0
}
