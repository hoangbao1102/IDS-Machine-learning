{
 "cells": [
  {
   "cell_type": "code",
   "execution_count": 16,
   "metadata": {
    "colab": {
     "base_uri": "https://localhost:8080/"
    },
    "id": "hUyCAz3jksq4",
    "outputId": "95596a07-8aa8-447c-f305-f506aab8a781"
   },
   "outputs": [],
   "source": [
    "# from google.colab import drive\n",
    "# drive.mount('/content/drive')"
   ]
  },
  {
   "cell_type": "code",
   "execution_count": 1,
   "metadata": {
    "id": "Q23MiH6q73M7"
   },
   "outputs": [],
   "source": [
    "import numpy as np\n",
    "import os\n",
    "import time\n",
    "import pandas as pd\n",
    "from scipy import stats"
   ]
  },
  {
   "cell_type": "code",
   "execution_count": 2,
   "metadata": {
    "colab": {
     "base_uri": "https://localhost:8080/"
    },
    "id": "gvAxhZpG8hF5",
    "outputId": "d13582c1-122d-489b-8359-a691a1c91840"
   },
   "outputs": [
    {
     "name": "stdout",
     "output_type": "stream",
     "text": [
      "../dataset/preprocesd_cicids.csv\n"
     ]
    }
   ],
   "source": [
    "DATASET_PATH='../dataset/preprocesd_cicids.csv'\n",
    "print(DATASET_PATH)"
   ]
  },
  {
   "cell_type": "code",
   "execution_count": 3,
   "metadata": {
    "colab": {
     "base_uri": "https://localhost:8080/"
    },
    "id": "iX6t0sc78vqJ",
    "outputId": "f7f3014e-5188-4f7e-a4a9-8ab52d9c4c33"
   },
   "outputs": [
    {
     "name": "stdout",
     "output_type": "stream",
     "text": [
      "Time taken to load the data:  18.19170308113098  seconds\n"
     ]
    }
   ],
   "source": [
    "# ,nrows=10000, header=0\n",
    "start = time.time()\n",
    "df=pd.read_csv(DATASET_PATH)\n",
    "df.head()\n",
    "print(\"Time taken to load the data: \", time.time()-start,\" seconds\")"
   ]
  },
  {
   "cell_type": "code",
   "execution_count": 4,
   "metadata": {
    "colab": {
     "base_uri": "https://localhost:8080/"
    },
    "id": "UI_1Zlap9R6M",
    "outputId": "2be9b896-e7c7-4d94-de36-2b43681f7390"
   },
   "outputs": [
    {
     "data": {
      "text/plain": [
       "(2520798, 79)"
      ]
     },
     "execution_count": 4,
     "metadata": {},
     "output_type": "execute_result"
    }
   ],
   "source": [
    "df.shape"
   ]
  },
  {
   "cell_type": "code",
   "execution_count": 5,
   "metadata": {
    "id": "Fk440MHw85rz"
   },
   "outputs": [],
   "source": [
    "def correlation(dataset, threshold):\n",
    "    col_corr = set()\n",
    "    corr_matrix = dataset.corr(numeric_only=True)\n",
    "    for i in range(len(corr_matrix.columns)):\n",
    "        for j in range(i):\n",
    "            if abs(corr_matrix.iloc[i, j]) > threshold:\n",
    "              colname = corr_matrix.columns[i]\n",
    "              col_corr.add(colname)\n",
    "    return col_corr"
   ]
  },
  {
   "cell_type": "code",
   "execution_count": 6,
   "metadata": {
    "colab": {
     "base_uri": "https://localhost:8080/"
    },
    "id": "ZqdF3o7x88Ef",
    "outputId": "3d2dfff0-33c0-448f-f7c6-02575b48a579"
   },
   "outputs": [
    {
     "data": {
      "text/plain": [
       "{' Active Min',\n",
       " ' Average Packet Size',\n",
       " ' Avg Bwd Segment Size',\n",
       " ' Avg Fwd Segment Size',\n",
       " ' Bwd IAT Min',\n",
       " ' Bwd Packet Length Mean',\n",
       " ' Bwd Packet Length Std',\n",
       " ' CWE Flag Count',\n",
       " ' ECE Flag Count',\n",
       " ' Flow IAT Max',\n",
       " ' Fwd Header Length.1',\n",
       " ' Fwd IAT Max',\n",
       " ' Fwd IAT Mean',\n",
       " ' Fwd IAT Min',\n",
       " ' Fwd IAT Std',\n",
       " ' Fwd Packet Length Mean',\n",
       " ' Fwd Packet Length Std',\n",
       " ' Idle Max',\n",
       " ' Idle Min',\n",
       " ' Max Packet Length',\n",
       " ' Packet Length Mean',\n",
       " ' Packet Length Std',\n",
       " ' Packet Length Variance',\n",
       " ' SYN Flag Count',\n",
       " ' Subflow Bwd Bytes',\n",
       " ' Subflow Bwd Packets',\n",
       " ' Subflow Fwd Bytes',\n",
       " ' Total Backward Packets',\n",
       " ' Total Length of Bwd Packets',\n",
       " ' act_data_pkt_fwd',\n",
       " ' min_seg_size_forward',\n",
       " 'Fwd IAT Total',\n",
       " 'Fwd Packets/s',\n",
       " 'Idle Mean',\n",
       " 'Subflow Fwd Packets'}"
      ]
     },
     "execution_count": 6,
     "metadata": {},
     "output_type": "execute_result"
    }
   ],
   "source": [
    "corr_features = correlation(df, 0.85)\n",
    "corr_features"
   ]
  },
  {
   "cell_type": "code",
   "execution_count": 7,
   "metadata": {
    "id": "IUaFHjWQ9A7p"
   },
   "outputs": [],
   "source": [
    "df.drop(corr_features,axis=1,inplace=True)"
   ]
  },
  {
   "cell_type": "code",
   "execution_count": 8,
   "metadata": {
    "colab": {
     "base_uri": "https://localhost:8080/"
    },
    "id": "Hqj321hS9GkS",
    "outputId": "7dff63bb-33b7-410b-a622-75104153c97f"
   },
   "outputs": [
    {
     "data": {
      "text/plain": [
       "(2520798, 44)"
      ]
     },
     "execution_count": 8,
     "metadata": {},
     "output_type": "execute_result"
    }
   ],
   "source": [
    "df.shape"
   ]
  },
  {
   "cell_type": "code",
   "execution_count": 9,
   "metadata": {
    "colab": {
     "base_uri": "https://localhost:8080/"
    },
    "id": "Lk1syvonDUyu",
    "outputId": "7abaf69e-60d0-4f1c-f8d9-b44580473f0a"
   },
   "outputs": [
    {
     "name": "stdout",
     "output_type": "stream",
     "text": [
      "['Bot', 'Web Attack � Brute Force', 'Web Attack � XSS', 'Infiltration', 'Web Attack � Sql Injection', 'Heartbleed']\n"
     ]
    }
   ],
   "source": [
    "# create a Series with the count of rows in each group\n",
    "label_counts = df[' Label'].value_counts()\n",
    "\n",
    "# create a list of labels that have less than 10,000 rows\n",
    "labels_to_merge = label_counts[label_counts < 3000].index.tolist()\n",
    "print(labels_to_merge)"
   ]
  },
  {
   "cell_type": "code",
   "execution_count": 10,
   "metadata": {
    "id": "FykULyieDcBg"
   },
   "outputs": [],
   "source": [
    "# create a new label called 'Other' and merge the labels with less than 10,000 rows\n",
    "df[' Label'] = df[' Label'].apply(lambda x: 'Other' if x in labels_to_merge else x)\n",
    "# group the rows by the new 'Label' column\n",
    "grouped_df = df.groupby(' Label')"
   ]
  },
  {
   "cell_type": "code",
   "execution_count": 11,
   "metadata": {
    "colab": {
     "base_uri": "https://localhost:8080/"
    },
    "id": "5hMnjeM6Df-B",
    "outputId": "75a67086-d75c-4182-9deb-31f7c8cab0e7"
   },
   "outputs": [
    {
     "data": {
      "text/plain": [
       "(2520798, 44)"
      ]
     },
     "execution_count": 11,
     "metadata": {},
     "output_type": "execute_result"
    }
   ],
   "source": [
    "df.shape"
   ]
  },
  {
   "cell_type": "code",
   "execution_count": 12,
   "metadata": {
    "colab": {
     "base_uri": "https://localhost:8080/",
     "height": 429
    },
    "id": "s0f9DMyYDjwj",
    "outputId": "3654dd77-f918-42f1-f30f-d76eca176cb0"
   },
   "outputs": [
    {
     "data": {
      "text/plain": [
       " Label\n",
       "BENIGN              2095057\n",
       "DoS Hulk             172846\n",
       "DDoS                 128014\n",
       "PortScan              90694\n",
       "DoS GoldenEye         10286\n",
       "FTP-Patator            5931\n",
       "DoS slowloris          5385\n",
       "DoS Slowhttptest       5228\n",
       "Other                  4138\n",
       "SSH-Patator            3219\n",
       "Name: count, dtype: int64"
      ]
     },
     "execution_count": 12,
     "metadata": {},
     "output_type": "execute_result"
    }
   ],
   "source": [
    "df[' Label'].value_counts()"
   ]
  },
  {
   "cell_type": "code",
   "execution_count": 13,
   "metadata": {
    "colab": {
     "base_uri": "https://localhost:8080/"
    },
    "id": "uT2kqPSkkkCd",
    "outputId": "64892ea8-4d39-43ce-be4b-bfda14c224ef"
   },
   "outputs": [
    {
     "name": "stdout",
     "output_type": "stream",
     "text": [
      " Label\n",
      "BENIGN              2095057\n",
      "DoS Hulk             172846\n",
      "DDoS                 128014\n",
      "PortScan              90694\n",
      "DoS GoldenEye         10286\n",
      "FTP-Patator            5931\n",
      "DoS slowloris          5385\n",
      "DoS Slowhttptest       5228\n",
      "Other                  4138\n",
      "SSH-Patator            3219\n",
      "Name: count, dtype: int64\n"
     ]
    }
   ],
   "source": [
    "# Count the number of instances for each class\n",
    "class_counts = df[' Label'].value_counts()\n",
    "print(class_counts)"
   ]
  },
  {
   "cell_type": "code",
   "execution_count": 14,
   "metadata": {
    "colab": {
     "base_uri": "https://localhost:8080/",
     "height": 507
    },
    "id": "bVMiK3_IkkCe",
    "outputId": "2e7fa3ee-9230-4e44-b5d5-581e3fab086b"
   },
   "outputs": [
    {
     "data": {
      "image/png": "[encoded data removed]",
      "text/plain": [
       "<Figure size 800x500 with 1 Axes>"
      ]
     },
     "metadata": {},
     "output_type": "display_data"
    }
   ],
   "source": [
    "import matplotlib.pyplot as plt\n",
    "import seaborn as sns\n",
    "# Create a horizontal bar plot of the frequency distribution of classes\n",
    "fig, ax = plt.subplots(figsize=(8, 5))\n",
    "class_counts.plot(kind='barh', color=['#1f77b4', '#ff7f0e'])\n",
    "ax.set_title('Frequency Distribution of Classes in CICIDS 2017 Dataset after preprocessing', fontsize=16)\n",
    "ax.set_xlabel('Count', fontsize=12)\n",
    "ax.set_ylabel('Class', fontsize=12)\n",
    "ax.spines['right'].set_visible(False)\n",
    "ax.spines['top'].set_visible(False)\n",
    "ax.xaxis.grid(True, linestyle='--', color='gray', alpha=0.2)\n",
    "ax.tick_params(axis='both', which='major', labelsize=10)\n",
    "\n",
    "plt.tight_layout()\n",
    "plt.show()"
   ]
  },
  {
   "cell_type": "code",
   "execution_count": 15,
   "metadata": {
    "colab": {
     "base_uri": "https://localhost:8080/"
    },
    "id": "dNAfjVO3FmaW",
    "outputId": "8f3624b1-52b0-491d-9252-919a78d0188f"
   },
   "outputs": [
    {
     "name": "stdout",
     "output_type": "stream",
     "text": [
      "Accuracy: 0.9984608060933037\n"
     ]
    }
   ],
   "source": [
    "from sklearn.ensemble import RandomForestClassifier\n",
    "from sklearn.model_selection import train_test_split\n",
    "\n",
    "# Split the data into training and test sets\n",
    "X_train, X_test, y_train, y_test = train_test_split(df.drop(' Label', axis=1), df[' Label'], test_size=0.30, random_state=0)\n",
    "\n",
    "# Create a random forest classifier\n",
    "clf = RandomForestClassifier(n_estimators=100, random_state=0)\n",
    "\n",
    "# Train the classifier on the training data\n",
    "clf.fit(X_train, y_train)\n",
    "\n",
    "# Predict the labels of the test data\n",
    "y_pred = clf.predict(X_test)\n",
    "\n",
    "# Evaluate the performance of the classifier\n",
    "accuracy = clf.score(X_test, y_test)\n",
    "print(f'Accuracy: {accuracy}')"
   ]
  },
  {
   "cell_type": "code",
   "execution_count": 16,
   "metadata": {
    "colab": {
     "base_uri": "https://localhost:8080/"
    },
    "id": "hoifcuRLJmV4",
    "outputId": "a8be9dc9-8e38-4ef5-f921-fa23015b3cad"
   },
   "outputs": [
    {
     "data": {
      "text/plain": [
       "(2520798, 44)"
      ]
     },
     "execution_count": 16,
     "metadata": {},
     "output_type": "execute_result"
    }
   ],
   "source": [
    "df.shape"
   ]
  },
  {
   "cell_type": "code",
   "execution_count": 17,
   "metadata": {
    "id": "37bxBrhZDnTt"
   },
   "outputs": [],
   "source": [
    "x = df.drop([' Label'],axis=1)\n",
    "y = df[' Label']"
   ]
  },
  {
   "cell_type": "code",
   "execution_count": 18,
   "metadata": {
    "colab": {
     "base_uri": "https://localhost:8080/",
     "height": 307
    },
    "id": "fAw7jLuJDtdN",
    "outputId": "7c4157be-bdef-4217-f9c6-a12b6964d200"
   },
   "outputs": [
    {
     "data": {
      "text/html": [
       "<div>\n",
       "<style scoped>\n",
       "    .dataframe tbody tr th:only-of-type {\n",
       "        vertical-align: middle;\n",
       "    }\n",
       "\n",
       "    .dataframe tbody tr th {\n",
       "        vertical-align: top;\n",
       "    }\n",
       "\n",
       "    .dataframe thead th {\n",
       "        text-align: right;\n",
       "    }\n",
       "</style>\n",
       "<table border=\"1\" class=\"dataframe\">\n",
       "  <thead>\n",
       "    <tr style=\"text-align: right;\">\n",
       "      <th></th>\n",
       "      <th>Destination Port</th>\n",
       "      <th>Flow Duration</th>\n",
       "      <th>Total Fwd Packets</th>\n",
       "      <th>Total Length of Fwd Packets</th>\n",
       "      <th>Fwd Packet Length Max</th>\n",
       "      <th>Fwd Packet Length Min</th>\n",
       "      <th>Bwd Packet Length Max</th>\n",
       "      <th>Bwd Packet Length Min</th>\n",
       "      <th>Flow Bytes/s</th>\n",
       "      <th>Flow Packets/s</th>\n",
       "      <th>...</th>\n",
       "      <th>Fwd Avg Bulk Rate</th>\n",
       "      <th>Bwd Avg Bytes/Bulk</th>\n",
       "      <th>Bwd Avg Packets/Bulk</th>\n",
       "      <th>Bwd Avg Bulk Rate</th>\n",
       "      <th>Init_Win_bytes_forward</th>\n",
       "      <th>Init_Win_bytes_backward</th>\n",
       "      <th>Active Mean</th>\n",
       "      <th>Active Std</th>\n",
       "      <th>Active Max</th>\n",
       "      <th>Idle Std</th>\n",
       "    </tr>\n",
       "  </thead>\n",
       "  <tbody>\n",
       "    <tr>\n",
       "      <th>0</th>\n",
       "      <td>54865</td>\n",
       "      <td>3</td>\n",
       "      <td>2</td>\n",
       "      <td>12</td>\n",
       "      <td>6</td>\n",
       "      <td>6</td>\n",
       "      <td>0</td>\n",
       "      <td>0</td>\n",
       "      <td>4000000.00</td>\n",
       "      <td>666666.700</td>\n",
       "      <td>...</td>\n",
       "      <td>0</td>\n",
       "      <td>0</td>\n",
       "      <td>0</td>\n",
       "      <td>0</td>\n",
       "      <td>33</td>\n",
       "      <td>-1</td>\n",
       "      <td>0.0</td>\n",
       "      <td>0.0</td>\n",
       "      <td>0</td>\n",
       "      <td>0.0</td>\n",
       "    </tr>\n",
       "    <tr>\n",
       "      <th>1</th>\n",
       "      <td>55054</td>\n",
       "      <td>109</td>\n",
       "      <td>1</td>\n",
       "      <td>6</td>\n",
       "      <td>6</td>\n",
       "      <td>6</td>\n",
       "      <td>6</td>\n",
       "      <td>6</td>\n",
       "      <td>110091.74</td>\n",
       "      <td>18348.623</td>\n",
       "      <td>...</td>\n",
       "      <td>0</td>\n",
       "      <td>0</td>\n",
       "      <td>0</td>\n",
       "      <td>0</td>\n",
       "      <td>29</td>\n",
       "      <td>256</td>\n",
       "      <td>0.0</td>\n",
       "      <td>0.0</td>\n",
       "      <td>0</td>\n",
       "      <td>0.0</td>\n",
       "    </tr>\n",
       "    <tr>\n",
       "      <th>2</th>\n",
       "      <td>55055</td>\n",
       "      <td>52</td>\n",
       "      <td>1</td>\n",
       "      <td>6</td>\n",
       "      <td>6</td>\n",
       "      <td>6</td>\n",
       "      <td>6</td>\n",
       "      <td>6</td>\n",
       "      <td>230769.23</td>\n",
       "      <td>38461.540</td>\n",
       "      <td>...</td>\n",
       "      <td>0</td>\n",
       "      <td>0</td>\n",
       "      <td>0</td>\n",
       "      <td>0</td>\n",
       "      <td>29</td>\n",
       "      <td>256</td>\n",
       "      <td>0.0</td>\n",
       "      <td>0.0</td>\n",
       "      <td>0</td>\n",
       "      <td>0.0</td>\n",
       "    </tr>\n",
       "    <tr>\n",
       "      <th>3</th>\n",
       "      <td>46236</td>\n",
       "      <td>34</td>\n",
       "      <td>1</td>\n",
       "      <td>6</td>\n",
       "      <td>6</td>\n",
       "      <td>6</td>\n",
       "      <td>6</td>\n",
       "      <td>6</td>\n",
       "      <td>352941.20</td>\n",
       "      <td>58823.530</td>\n",
       "      <td>...</td>\n",
       "      <td>0</td>\n",
       "      <td>0</td>\n",
       "      <td>0</td>\n",
       "      <td>0</td>\n",
       "      <td>31</td>\n",
       "      <td>329</td>\n",
       "      <td>0.0</td>\n",
       "      <td>0.0</td>\n",
       "      <td>0</td>\n",
       "      <td>0.0</td>\n",
       "    </tr>\n",
       "    <tr>\n",
       "      <th>4</th>\n",
       "      <td>54863</td>\n",
       "      <td>3</td>\n",
       "      <td>2</td>\n",
       "      <td>12</td>\n",
       "      <td>6</td>\n",
       "      <td>6</td>\n",
       "      <td>0</td>\n",
       "      <td>0</td>\n",
       "      <td>4000000.00</td>\n",
       "      <td>666666.700</td>\n",
       "      <td>...</td>\n",
       "      <td>0</td>\n",
       "      <td>0</td>\n",
       "      <td>0</td>\n",
       "      <td>0</td>\n",
       "      <td>32</td>\n",
       "      <td>-1</td>\n",
       "      <td>0.0</td>\n",
       "      <td>0.0</td>\n",
       "      <td>0</td>\n",
       "      <td>0.0</td>\n",
       "    </tr>\n",
       "  </tbody>\n",
       "</table>\n",
       "<p>5 rows × 43 columns</p>\n",
       "</div>"
      ],
      "text/plain": [
       "    Destination Port   Flow Duration   Total Fwd Packets  \\\n",
       "0              54865               3                   2   \n",
       "1              55054             109                   1   \n",
       "2              55055              52                   1   \n",
       "3              46236              34                   1   \n",
       "4              54863               3                   2   \n",
       "\n",
       "   Total Length of Fwd Packets   Fwd Packet Length Max  \\\n",
       "0                           12                       6   \n",
       "1                            6                       6   \n",
       "2                            6                       6   \n",
       "3                            6                       6   \n",
       "4                           12                       6   \n",
       "\n",
       "    Fwd Packet Length Min  Bwd Packet Length Max   Bwd Packet Length Min  \\\n",
       "0                       6                      0                       0   \n",
       "1                       6                      6                       6   \n",
       "2                       6                      6                       6   \n",
       "3                       6                      6                       6   \n",
       "4                       6                      0                       0   \n",
       "\n",
       "   Flow Bytes/s   Flow Packets/s  ...   Fwd Avg Bulk Rate  \\\n",
       "0    4000000.00       666666.700  ...                   0   \n",
       "1     110091.74        18348.623  ...                   0   \n",
       "2     230769.23        38461.540  ...                   0   \n",
       "3     352941.20        58823.530  ...                   0   \n",
       "4    4000000.00       666666.700  ...                   0   \n",
       "\n",
       "    Bwd Avg Bytes/Bulk   Bwd Avg Packets/Bulk  Bwd Avg Bulk Rate  \\\n",
       "0                    0                      0                  0   \n",
       "1                    0                      0                  0   \n",
       "2                    0                      0                  0   \n",
       "3                    0                      0                  0   \n",
       "4                    0                      0                  0   \n",
       "\n",
       "   Init_Win_bytes_forward   Init_Win_bytes_backward  Active Mean   Active Std  \\\n",
       "0                      33                        -1          0.0          0.0   \n",
       "1                      29                       256          0.0          0.0   \n",
       "2                      29                       256          0.0          0.0   \n",
       "3                      31                       329          0.0          0.0   \n",
       "4                      32                        -1          0.0          0.0   \n",
       "\n",
       "    Active Max   Idle Std  \n",
       "0            0        0.0  \n",
       "1            0        0.0  \n",
       "2            0        0.0  \n",
       "3            0        0.0  \n",
       "4            0        0.0  \n",
       "\n",
       "[5 rows x 43 columns]"
      ]
     },
     "execution_count": 18,
     "metadata": {},
     "output_type": "execute_result"
    }
   ],
   "source": [
    "x.head()"
   ]
  },
  {
   "cell_type": "code",
   "execution_count": 19,
   "metadata": {
    "colab": {
     "base_uri": "https://localhost:8080/",
     "height": 241
    },
    "id": "Y-Bp_ArjDxF0",
    "outputId": "7dd67d53-0a8a-411e-f4f2-61fc719ef3db"
   },
   "outputs": [
    {
     "data": {
      "text/plain": [
       "0    BENIGN\n",
       "1    BENIGN\n",
       "2    BENIGN\n",
       "3    BENIGN\n",
       "4    BENIGN\n",
       "Name:  Label, dtype: object"
      ]
     },
     "execution_count": 19,
     "metadata": {},
     "output_type": "execute_result"
    }
   ],
   "source": [
    "y.head()"
   ]
  },
  {
   "cell_type": "code",
   "execution_count": 20,
   "metadata": {
    "id": "LfY9NMzDEO79"
   },
   "outputs": [],
   "source": [
    "from imblearn.under_sampling import RandomUnderSampler\n",
    "rus = RandomUnderSampler(random_state=0)\n",
    "rus.fit(x, y)\n",
    "Xn, yn = rus.fit_resample(x, y)\n",
    "# Xn.value_counts()"
   ]
  },
  {
   "cell_type": "code",
   "execution_count": 21,
   "metadata": {
    "colab": {
     "base_uri": "https://localhost:8080/"
    },
    "id": "cPQeJCf_Ezgy",
    "outputId": "16b63b91-5007-45e6-cad0-73420ccda11b"
   },
   "outputs": [
    {
     "data": {
      "text/plain": [
       "(32190, 43)"
      ]
     },
     "execution_count": 21,
     "metadata": {},
     "output_type": "execute_result"
    }
   ],
   "source": [
    "Xn.shape"
   ]
  },
  {
   "cell_type": "code",
   "execution_count": 22,
   "metadata": {
    "colab": {
     "base_uri": "https://localhost:8080/"
    },
    "id": "DpCVBZknE_KU",
    "outputId": "baa549b4-1121-4485-8520-f34a323b443b"
   },
   "outputs": [
    {
     "data": {
      "text/plain": [
       "(32190,)"
      ]
     },
     "execution_count": 22,
     "metadata": {},
     "output_type": "execute_result"
    }
   ],
   "source": [
    "yn.shape"
   ]
  },
  {
   "cell_type": "code",
   "execution_count": 23,
   "metadata": {
    "colab": {
     "base_uri": "https://localhost:8080/",
     "height": 307
    },
    "id": "aIgviU1SKLlF",
    "outputId": "f3c9d515-f8d8-469d-fac7-afd6610ba3cd"
   },
   "outputs": [
    {
     "data": {
      "text/html": [
       "<div>\n",
       "<style scoped>\n",
       "    .dataframe tbody tr th:only-of-type {\n",
       "        vertical-align: middle;\n",
       "    }\n",
       "\n",
       "    .dataframe tbody tr th {\n",
       "        vertical-align: top;\n",
       "    }\n",
       "\n",
       "    .dataframe thead th {\n",
       "        text-align: right;\n",
       "    }\n",
       "</style>\n",
       "<table border=\"1\" class=\"dataframe\">\n",
       "  <thead>\n",
       "    <tr style=\"text-align: right;\">\n",
       "      <th></th>\n",
       "      <th>Destination Port</th>\n",
       "      <th>Flow Duration</th>\n",
       "      <th>Total Fwd Packets</th>\n",
       "      <th>Total Length of Fwd Packets</th>\n",
       "      <th>Fwd Packet Length Max</th>\n",
       "      <th>Fwd Packet Length Min</th>\n",
       "      <th>Bwd Packet Length Max</th>\n",
       "      <th>Bwd Packet Length Min</th>\n",
       "      <th>Flow Bytes/s</th>\n",
       "      <th>Flow Packets/s</th>\n",
       "      <th>...</th>\n",
       "      <th>Fwd Avg Bulk Rate</th>\n",
       "      <th>Bwd Avg Bytes/Bulk</th>\n",
       "      <th>Bwd Avg Packets/Bulk</th>\n",
       "      <th>Bwd Avg Bulk Rate</th>\n",
       "      <th>Init_Win_bytes_forward</th>\n",
       "      <th>Init_Win_bytes_backward</th>\n",
       "      <th>Active Mean</th>\n",
       "      <th>Active Std</th>\n",
       "      <th>Active Max</th>\n",
       "      <th>Idle Std</th>\n",
       "    </tr>\n",
       "  </thead>\n",
       "  <tbody>\n",
       "    <tr>\n",
       "      <th>1029337</th>\n",
       "      <td>53</td>\n",
       "      <td>62874</td>\n",
       "      <td>4</td>\n",
       "      <td>116</td>\n",
       "      <td>29</td>\n",
       "      <td>29</td>\n",
       "      <td>93</td>\n",
       "      <td>93</td>\n",
       "      <td>4803.257300</td>\n",
       "      <td>95.428955</td>\n",
       "      <td>...</td>\n",
       "      <td>0</td>\n",
       "      <td>0</td>\n",
       "      <td>0</td>\n",
       "      <td>0</td>\n",
       "      <td>-1</td>\n",
       "      <td>-1</td>\n",
       "      <td>0.00</td>\n",
       "      <td>0.000</td>\n",
       "      <td>0</td>\n",
       "      <td>0.000</td>\n",
       "    </tr>\n",
       "    <tr>\n",
       "      <th>2454275</th>\n",
       "      <td>57225</td>\n",
       "      <td>86</td>\n",
       "      <td>1</td>\n",
       "      <td>0</td>\n",
       "      <td>0</td>\n",
       "      <td>0</td>\n",
       "      <td>0</td>\n",
       "      <td>0</td>\n",
       "      <td>0.000000</td>\n",
       "      <td>23255.814000</td>\n",
       "      <td>...</td>\n",
       "      <td>0</td>\n",
       "      <td>0</td>\n",
       "      <td>0</td>\n",
       "      <td>0</td>\n",
       "      <td>905</td>\n",
       "      <td>229</td>\n",
       "      <td>0.00</td>\n",
       "      <td>0.000</td>\n",
       "      <td>0</td>\n",
       "      <td>0.000</td>\n",
       "    </tr>\n",
       "    <tr>\n",
       "      <th>440854</th>\n",
       "      <td>80</td>\n",
       "      <td>116003861</td>\n",
       "      <td>16</td>\n",
       "      <td>440</td>\n",
       "      <td>356</td>\n",
       "      <td>0</td>\n",
       "      <td>340</td>\n",
       "      <td>0</td>\n",
       "      <td>7.344583</td>\n",
       "      <td>0.258612</td>\n",
       "      <td>...</td>\n",
       "      <td>0</td>\n",
       "      <td>0</td>\n",
       "      <td>0</td>\n",
       "      <td>0</td>\n",
       "      <td>8192</td>\n",
       "      <td>4736</td>\n",
       "      <td>46441.09</td>\n",
       "      <td>31255.098</td>\n",
       "      <td>140678</td>\n",
       "      <td>14892.001</td>\n",
       "    </tr>\n",
       "    <tr>\n",
       "      <th>438438</th>\n",
       "      <td>443</td>\n",
       "      <td>5683083</td>\n",
       "      <td>8</td>\n",
       "      <td>397</td>\n",
       "      <td>216</td>\n",
       "      <td>0</td>\n",
       "      <td>1460</td>\n",
       "      <td>0</td>\n",
       "      <td>723.726870</td>\n",
       "      <td>2.463452</td>\n",
       "      <td>...</td>\n",
       "      <td>0</td>\n",
       "      <td>0</td>\n",
       "      <td>0</td>\n",
       "      <td>0</td>\n",
       "      <td>8192</td>\n",
       "      <td>119</td>\n",
       "      <td>269399.00</td>\n",
       "      <td>0.000</td>\n",
       "      <td>269399</td>\n",
       "      <td>0.000</td>\n",
       "    </tr>\n",
       "    <tr>\n",
       "      <th>2307425</th>\n",
       "      <td>53</td>\n",
       "      <td>23652</td>\n",
       "      <td>1</td>\n",
       "      <td>48</td>\n",
       "      <td>48</td>\n",
       "      <td>48</td>\n",
       "      <td>128</td>\n",
       "      <td>128</td>\n",
       "      <td>7441.231000</td>\n",
       "      <td>84.559450</td>\n",
       "      <td>...</td>\n",
       "      <td>0</td>\n",
       "      <td>0</td>\n",
       "      <td>0</td>\n",
       "      <td>0</td>\n",
       "      <td>-1</td>\n",
       "      <td>-1</td>\n",
       "      <td>0.00</td>\n",
       "      <td>0.000</td>\n",
       "      <td>0</td>\n",
       "      <td>0.000</td>\n",
       "    </tr>\n",
       "  </tbody>\n",
       "</table>\n",
       "<p>5 rows × 43 columns</p>\n",
       "</div>"
      ],
      "text/plain": [
       "          Destination Port   Flow Duration   Total Fwd Packets  \\\n",
       "1029337                 53           62874                   4   \n",
       "2454275              57225              86                   1   \n",
       "440854                  80       116003861                  16   \n",
       "438438                 443         5683083                   8   \n",
       "2307425                 53           23652                   1   \n",
       "\n",
       "         Total Length of Fwd Packets   Fwd Packet Length Max  \\\n",
       "1029337                          116                      29   \n",
       "2454275                            0                       0   \n",
       "440854                           440                     356   \n",
       "438438                           397                     216   \n",
       "2307425                           48                      48   \n",
       "\n",
       "          Fwd Packet Length Min  Bwd Packet Length Max  \\\n",
       "1029337                      29                     93   \n",
       "2454275                       0                      0   \n",
       "440854                        0                    340   \n",
       "438438                        0                   1460   \n",
       "2307425                      48                    128   \n",
       "\n",
       "          Bwd Packet Length Min  Flow Bytes/s   Flow Packets/s  ...  \\\n",
       "1029337                      93   4803.257300        95.428955  ...   \n",
       "2454275                       0      0.000000     23255.814000  ...   \n",
       "440854                        0      7.344583         0.258612  ...   \n",
       "438438                        0    723.726870         2.463452  ...   \n",
       "2307425                     128   7441.231000        84.559450  ...   \n",
       "\n",
       "          Fwd Avg Bulk Rate   Bwd Avg Bytes/Bulk   Bwd Avg Packets/Bulk  \\\n",
       "1029337                   0                    0                      0   \n",
       "2454275                   0                    0                      0   \n",
       "440854                    0                    0                      0   \n",
       "438438                    0                    0                      0   \n",
       "2307425                   0                    0                      0   \n",
       "\n",
       "         Bwd Avg Bulk Rate  Init_Win_bytes_forward   Init_Win_bytes_backward  \\\n",
       "1029337                  0                      -1                        -1   \n",
       "2454275                  0                     905                       229   \n",
       "440854                   0                    8192                      4736   \n",
       "438438                   0                    8192                       119   \n",
       "2307425                  0                      -1                        -1   \n",
       "\n",
       "         Active Mean   Active Std   Active Max   Idle Std  \n",
       "1029337         0.00        0.000            0      0.000  \n",
       "2454275         0.00        0.000            0      0.000  \n",
       "440854      46441.09    31255.098       140678  14892.001  \n",
       "438438     269399.00        0.000       269399      0.000  \n",
       "2307425         0.00        0.000            0      0.000  \n",
       "\n",
       "[5 rows x 43 columns]"
      ]
     },
     "execution_count": 23,
     "metadata": {},
     "output_type": "execute_result"
    }
   ],
   "source": [
    "Xn.head()"
   ]
  },
  {
   "cell_type": "code",
   "execution_count": 24,
   "metadata": {
    "colab": {
     "base_uri": "https://localhost:8080/",
     "height": 491
    },
    "id": "aJiqx464XjYw",
    "outputId": "85fe45d8-895c-4e65-97da-b795413d3e6f"
   },
   "outputs": [
    {
     "data": {
      "text/plain": [
       " Label\n",
       "BENIGN              3219\n",
       "DDoS                3219\n",
       "DoS GoldenEye       3219\n",
       "DoS Hulk            3219\n",
       "DoS Slowhttptest    3219\n",
       "DoS slowloris       3219\n",
       "FTP-Patator         3219\n",
       "Other               3219\n",
       "PortScan            3219\n",
       "SSH-Patator         3219\n",
       "Name: count, dtype: int64"
      ]
     },
     "execution_count": 24,
     "metadata": {},
     "output_type": "execute_result"
    }
   ],
   "source": [
    "yn.value_counts()"
   ]
  },
  {
   "cell_type": "code",
   "execution_count": 25,
   "metadata": {
    "id": "S9hC5Bp0dWDb"
   },
   "outputs": [],
   "source": [
    "#z-score   z = (x - mean) / std\n",
    "# it can make it easier for the algorithm to learn meaningful patterns in the data\n",
    "cols = list(Xn.columns)\n",
    "for col in cols:\n",
    "    Xn[col] = stats.zscore(Xn[col])"
   ]
  },
  {
   "cell_type": "code",
   "execution_count": 26,
   "metadata": {
    "colab": {
     "base_uri": "https://localhost:8080/",
     "height": 307
    },
    "id": "36h_-d4XKVCS",
    "outputId": "1154484e-2278-4958-b3ec-22c04d2cc1ed"
   },
   "outputs": [
    {
     "data": {
      "text/html": [
       "<div>\n",
       "<style scoped>\n",
       "    .dataframe tbody tr th:only-of-type {\n",
       "        vertical-align: middle;\n",
       "    }\n",
       "\n",
       "    .dataframe tbody tr th {\n",
       "        vertical-align: top;\n",
       "    }\n",
       "\n",
       "    .dataframe thead th {\n",
       "        text-align: right;\n",
       "    }\n",
       "</style>\n",
       "<table border=\"1\" class=\"dataframe\">\n",
       "  <thead>\n",
       "    <tr style=\"text-align: right;\">\n",
       "      <th></th>\n",
       "      <th>Destination Port</th>\n",
       "      <th>Flow Duration</th>\n",
       "      <th>Total Fwd Packets</th>\n",
       "      <th>Total Length of Fwd Packets</th>\n",
       "      <th>Fwd Packet Length Max</th>\n",
       "      <th>Fwd Packet Length Min</th>\n",
       "      <th>Bwd Packet Length Max</th>\n",
       "      <th>Bwd Packet Length Min</th>\n",
       "      <th>Flow Bytes/s</th>\n",
       "      <th>Flow Packets/s</th>\n",
       "      <th>...</th>\n",
       "      <th>Fwd Avg Bulk Rate</th>\n",
       "      <th>Bwd Avg Bytes/Bulk</th>\n",
       "      <th>Bwd Avg Packets/Bulk</th>\n",
       "      <th>Bwd Avg Bulk Rate</th>\n",
       "      <th>Init_Win_bytes_forward</th>\n",
       "      <th>Init_Win_bytes_backward</th>\n",
       "      <th>Active Mean</th>\n",
       "      <th>Active Std</th>\n",
       "      <th>Active Max</th>\n",
       "      <th>Idle Std</th>\n",
       "    </tr>\n",
       "  </thead>\n",
       "  <tbody>\n",
       "    <tr>\n",
       "      <th>1029337</th>\n",
       "      <td>-0.263616</td>\n",
       "      <td>-0.707781</td>\n",
       "      <td>-0.069969</td>\n",
       "      <td>-0.037641</td>\n",
       "      <td>-0.278349</td>\n",
       "      <td>0.352479</td>\n",
       "      <td>-0.530286</td>\n",
       "      <td>2.687514</td>\n",
       "      <td>-0.022664</td>\n",
       "      <td>-0.158127</td>\n",
       "      <td>...</td>\n",
       "      <td>NaN</td>\n",
       "      <td>NaN</td>\n",
       "      <td>NaN</td>\n",
       "      <td>NaN</td>\n",
       "      <td>-1.116079</td>\n",
       "      <td>-0.276731</td>\n",
       "      <td>-0.332643</td>\n",
       "      <td>-0.198419</td>\n",
       "      <td>-0.342221</td>\n",
       "      <td>-0.280617</td>\n",
       "    </tr>\n",
       "    <tr>\n",
       "      <th>2454275</th>\n",
       "      <td>5.566419</td>\n",
       "      <td>-0.709415</td>\n",
       "      <td>-0.120401</td>\n",
       "      <td>-0.042799</td>\n",
       "      <td>-0.324996</td>\n",
       "      <td>-0.115027</td>\n",
       "      <td>-0.563196</td>\n",
       "      <td>-0.188982</td>\n",
       "      <td>-0.023023</td>\n",
       "      <td>0.067566</td>\n",
       "      <td>...</td>\n",
       "      <td>NaN</td>\n",
       "      <td>NaN</td>\n",
       "      <td>NaN</td>\n",
       "      <td>NaN</td>\n",
       "      <td>-1.052714</td>\n",
       "      <td>-0.244825</td>\n",
       "      <td>-0.332643</td>\n",
       "      <td>-0.198419</td>\n",
       "      <td>-0.342221</td>\n",
       "      <td>-0.280617</td>\n",
       "    </tr>\n",
       "    <tr>\n",
       "      <th>440854</th>\n",
       "      <td>-0.260863</td>\n",
       "      <td>2.309030</td>\n",
       "      <td>0.131756</td>\n",
       "      <td>-0.023235</td>\n",
       "      <td>0.247642</td>\n",
       "      <td>-0.115027</td>\n",
       "      <td>-0.442882</td>\n",
       "      <td>-0.188982</td>\n",
       "      <td>-0.023022</td>\n",
       "      <td>-0.159054</td>\n",
       "      <td>...</td>\n",
       "      <td>NaN</td>\n",
       "      <td>NaN</td>\n",
       "      <td>NaN</td>\n",
       "      <td>NaN</td>\n",
       "      <td>-0.543073</td>\n",
       "      <td>0.380396</td>\n",
       "      <td>-0.306772</td>\n",
       "      <td>-0.168252</td>\n",
       "      <td>-0.277858</td>\n",
       "      <td>-0.278543</td>\n",
       "    </tr>\n",
       "    <tr>\n",
       "      <th>438438</th>\n",
       "      <td>-0.223847</td>\n",
       "      <td>-0.561542</td>\n",
       "      <td>-0.002728</td>\n",
       "      <td>-0.025147</td>\n",
       "      <td>0.022447</td>\n",
       "      <td>-0.115027</td>\n",
       "      <td>-0.046554</td>\n",
       "      <td>-0.188982</td>\n",
       "      <td>-0.022969</td>\n",
       "      <td>-0.159033</td>\n",
       "      <td>...</td>\n",
       "      <td>NaN</td>\n",
       "      <td>NaN</td>\n",
       "      <td>NaN</td>\n",
       "      <td>NaN</td>\n",
       "      <td>-0.543073</td>\n",
       "      <td>-0.260084</td>\n",
       "      <td>-0.182565</td>\n",
       "      <td>-0.198419</td>\n",
       "      <td>-0.218966</td>\n",
       "      <td>-0.280617</td>\n",
       "    </tr>\n",
       "    <tr>\n",
       "      <th>2307425</th>\n",
       "      <td>-0.263616</td>\n",
       "      <td>-0.708802</td>\n",
       "      <td>-0.120401</td>\n",
       "      <td>-0.040664</td>\n",
       "      <td>-0.247787</td>\n",
       "      <td>0.658776</td>\n",
       "      <td>-0.517901</td>\n",
       "      <td>3.770066</td>\n",
       "      <td>-0.022467</td>\n",
       "      <td>-0.158233</td>\n",
       "      <td>...</td>\n",
       "      <td>NaN</td>\n",
       "      <td>NaN</td>\n",
       "      <td>NaN</td>\n",
       "      <td>NaN</td>\n",
       "      <td>-1.116079</td>\n",
       "      <td>-0.276731</td>\n",
       "      <td>-0.332643</td>\n",
       "      <td>-0.198419</td>\n",
       "      <td>-0.342221</td>\n",
       "      <td>-0.280617</td>\n",
       "    </tr>\n",
       "  </tbody>\n",
       "</table>\n",
       "<p>5 rows × 43 columns</p>\n",
       "</div>"
      ],
      "text/plain": [
       "          Destination Port   Flow Duration   Total Fwd Packets  \\\n",
       "1029337          -0.263616       -0.707781           -0.069969   \n",
       "2454275           5.566419       -0.709415           -0.120401   \n",
       "440854           -0.260863        2.309030            0.131756   \n",
       "438438           -0.223847       -0.561542           -0.002728   \n",
       "2307425          -0.263616       -0.708802           -0.120401   \n",
       "\n",
       "         Total Length of Fwd Packets   Fwd Packet Length Max  \\\n",
       "1029337                    -0.037641               -0.278349   \n",
       "2454275                    -0.042799               -0.324996   \n",
       "440854                     -0.023235                0.247642   \n",
       "438438                     -0.025147                0.022447   \n",
       "2307425                    -0.040664               -0.247787   \n",
       "\n",
       "          Fwd Packet Length Min  Bwd Packet Length Max  \\\n",
       "1029337                0.352479              -0.530286   \n",
       "2454275               -0.115027              -0.563196   \n",
       "440854                -0.115027              -0.442882   \n",
       "438438                -0.115027              -0.046554   \n",
       "2307425                0.658776              -0.517901   \n",
       "\n",
       "          Bwd Packet Length Min  Flow Bytes/s   Flow Packets/s  ...  \\\n",
       "1029337                2.687514     -0.022664        -0.158127  ...   \n",
       "2454275               -0.188982     -0.023023         0.067566  ...   \n",
       "440854                -0.188982     -0.023022        -0.159054  ...   \n",
       "438438                -0.188982     -0.022969        -0.159033  ...   \n",
       "2307425                3.770066     -0.022467        -0.158233  ...   \n",
       "\n",
       "          Fwd Avg Bulk Rate   Bwd Avg Bytes/Bulk   Bwd Avg Packets/Bulk  \\\n",
       "1029337                 NaN                  NaN                    NaN   \n",
       "2454275                 NaN                  NaN                    NaN   \n",
       "440854                  NaN                  NaN                    NaN   \n",
       "438438                  NaN                  NaN                    NaN   \n",
       "2307425                 NaN                  NaN                    NaN   \n",
       "\n",
       "         Bwd Avg Bulk Rate  Init_Win_bytes_forward   Init_Win_bytes_backward  \\\n",
       "1029337                NaN               -1.116079                 -0.276731   \n",
       "2454275                NaN               -1.052714                 -0.244825   \n",
       "440854                 NaN               -0.543073                  0.380396   \n",
       "438438                 NaN               -0.543073                 -0.260084   \n",
       "2307425                NaN               -1.116079                 -0.276731   \n",
       "\n",
       "         Active Mean   Active Std   Active Max   Idle Std  \n",
       "1029337    -0.332643    -0.198419    -0.342221  -0.280617  \n",
       "2454275    -0.332643    -0.198419    -0.342221  -0.280617  \n",
       "440854     -0.306772    -0.168252    -0.277858  -0.278543  \n",
       "438438     -0.182565    -0.198419    -0.218966  -0.280617  \n",
       "2307425    -0.332643    -0.198419    -0.342221  -0.280617  \n",
       "\n",
       "[5 rows x 43 columns]"
      ]
     },
     "execution_count": 26,
     "metadata": {},
     "output_type": "execute_result"
    }
   ],
   "source": [
    "Xn.head()"
   ]
  },
  {
   "cell_type": "code",
   "execution_count": 27,
   "metadata": {
    "id": "VGVmZ_A-Kv-9"
   },
   "outputs": [],
   "source": [
    "from sklearn.model_selection import  train_test_split\n",
    "X_train, X_test, Y_train, Y_test = train_test_split(Xn,yn,test_size=0.30,random_state=0)"
   ]
  },
  {
   "cell_type": "code",
   "execution_count": 28,
   "metadata": {
    "colab": {
     "base_uri": "https://localhost:8080/"
    },
    "id": "5aWhrwKjK-v4",
    "outputId": "690e5469-b64e-4855-cffd-88a9be1f27e9"
   },
   "outputs": [
    {
     "name": "stdout",
     "output_type": "stream",
     "text": [
      "True\n",
      "False\n"
     ]
    }
   ],
   "source": [
    "print(np.any(np.isnan(X_train)))\n",
    "print(np.all(np.isfinite(X_train)))"
   ]
  },
  {
   "cell_type": "code",
   "execution_count": 29,
   "metadata": {
    "colab": {
     "base_uri": "https://localhost:8080/"
    },
    "id": "8rwVGmnYLEas",
    "outputId": "d1b3e368-3f75-4b87-aeba-945232db0e59"
   },
   "outputs": [
    {
     "name": "stderr",
     "output_type": "stream",
     "text": [
      "c:\\DUT\\Nam5\\Ky9\\ATTT\\venvattt\\lib\\site-packages\\sklearn\\impute\\_base.py:598: UserWarning: Skipping features without any observed values: [' Bwd PSH Flags' ' Fwd URG Flags' ' Bwd URG Flags' 'Fwd Avg Bytes/Bulk'\n",
      " ' Fwd Avg Packets/Bulk' ' Fwd Avg Bulk Rate' ' Bwd Avg Bytes/Bulk'\n",
      " ' Bwd Avg Packets/Bulk' 'Bwd Avg Bulk Rate']. At least one non-missing value is needed for imputation with strategy='mean'.\n",
      "  warnings.warn(\n",
      "c:\\DUT\\Nam5\\Ky9\\ATTT\\venvattt\\lib\\site-packages\\sklearn\\impute\\_base.py:598: UserWarning: Skipping features without any observed values: [' Bwd PSH Flags' ' Fwd URG Flags' ' Bwd URG Flags' 'Fwd Avg Bytes/Bulk'\n",
      " ' Fwd Avg Packets/Bulk' ' Fwd Avg Bulk Rate' ' Bwd Avg Bytes/Bulk'\n",
      " ' Bwd Avg Packets/Bulk' 'Bwd Avg Bulk Rate']. At least one non-missing value is needed for imputation with strategy='mean'.\n",
      "  warnings.warn(\n"
     ]
    }
   ],
   "source": [
    "from sklearn.impute import SimpleImputer\n",
    "from sklearn.preprocessing import StandardScaler\n",
    "\n",
    "# Create an instance of SimpleImputer with 'mean' strategy to replace NaN values\n",
    "imputer = SimpleImputer(strategy='mean')\n",
    "\n",
    "# Fit the imputer to X_train and transform X_train and X_test with it\n",
    "X_train = imputer.fit_transform(X_train)\n",
    "X_test = imputer.transform(X_test)\n",
    "\n",
    "# Apply StandardScaler to X_train and X_test\n",
    "scaler = StandardScaler()\n",
    "X_train = scaler.fit_transform(X_train)\n",
    "X_test = scaler.transform(X_test)"
   ]
  },
  {
   "cell_type": "code",
   "execution_count": 30,
   "metadata": {
    "colab": {
     "base_uri": "https://localhost:8080/"
    },
    "id": "UsIhFS9ILL9r",
    "outputId": "86bc20b6-d8d2-4a02-e0b5-da502c775f0c"
   },
   "outputs": [
    {
     "name": "stdout",
     "output_type": "stream",
     "text": [
      "Time taken to train model:  2.9265835285186768  seconds\n"
     ]
    }
   ],
   "source": [
    "from sklearn.ensemble import RandomForestClassifier as RFC\n",
    "\n",
    "# model training USING RFC\n",
    "start = time.time()\n",
    "Random_Forest = RFC(max_depth=40)\n",
    "Random_Forest.fit(X_train, Y_train)\n",
    "print(\"Time taken to train model: \", time.time()-start,\" seconds\")"
   ]
  },
  {
   "cell_type": "code",
   "execution_count": 31,
   "metadata": {
    "colab": {
     "base_uri": "https://localhost:8080/"
    },
    "id": "XljmmUvTLRO7",
    "outputId": "4eecb2e5-d47e-4fd6-84e9-3a5a297ca51a"
   },
   "outputs": [
    {
     "name": "stdout",
     "output_type": "stream",
     "text": [
      "Time taken to for performance matric calculation:  17.92418670654297  seconds\n"
     ]
    }
   ],
   "source": [
    "from sklearn.model_selection import cross_val_score\n",
    "from sklearn import metrics\n",
    "# performance metrics calculation of our model over training data set\n",
    "\n",
    "start = time.time()\n",
    "Predict_X =  Random_Forest.predict(X_train)\n",
    "scores = cross_val_score(Random_Forest, X_train, Y_train, cv=7)\n",
    "accuracy = metrics.accuracy_score(Y_train,Predict_X)\n",
    "confusion_matrix = metrics.confusion_matrix(Y_train, Predict_X)\n",
    "classification = metrics.classification_report(Y_train, Predict_X, digits=3)\n",
    "print(\"Time taken to for performance matric calculation: \", time.time()-start,\" seconds\")"
   ]
  },
  {
   "cell_type": "code",
   "execution_count": 32,
   "metadata": {
    "colab": {
     "base_uri": "https://localhost:8080/"
    },
    "id": "hrNEsLxjLijV",
    "outputId": "f9ed9c7f-2344-49ea-f56f-a738d5a591b0"
   },
   "outputs": [
    {
     "name": "stdout",
     "output_type": "stream",
     "text": [
      "\n",
      "--------------------------- Results --------------------------------\n",
      "\n",
      "Cross Validation Mean Score:\n",
      " 0.9945413393689255\n",
      "\n",
      "Model Accuracy:\n",
      " 0.9997781032263791\n",
      "\n",
      "Confusion matrix:\n",
      " [[2256    0    0    0    0    0    0    4    0    0]\n",
      " [   0 2283    0    0    0    0    0    0    0    0]\n",
      " [   0    0 2252    0    0    0    0    0    0    0]\n",
      " [   0    0    0 2278    0    0    0    0    0    0]\n",
      " [   0    0    0    0 2261    1    0    0    0    0]\n",
      " [   0    0    0    0    0 2267    0    0    0    0]\n",
      " [   0    0    0    0    0    0 2194    0    0    0]\n",
      " [   0    0    0    0    0    0    0 2256    0    0]\n",
      " [   0    0    0    0    0    0    0    0 2236    0]\n",
      " [   0    0    0    0    0    0    0    0    0 2245]]\n",
      "\n",
      "Classification report:\n",
      "                   precision    recall  f1-score   support\n",
      "\n",
      "          BENIGN      1.000     0.998     0.999      2260\n",
      "            DDoS      1.000     1.000     1.000      2283\n",
      "   DoS GoldenEye      1.000     1.000     1.000      2252\n",
      "        DoS Hulk      1.000     1.000     1.000      2278\n",
      "DoS Slowhttptest      1.000     1.000     1.000      2262\n",
      "   DoS slowloris      1.000     1.000     1.000      2267\n",
      "     FTP-Patator      1.000     1.000     1.000      2194\n",
      "           Other      0.998     1.000     0.999      2256\n",
      "        PortScan      1.000     1.000     1.000      2236\n",
      "     SSH-Patator      1.000     1.000     1.000      2245\n",
      "\n",
      "        accuracy                          1.000     22533\n",
      "       macro avg      1.000     1.000     1.000     22533\n",
      "    weighted avg      1.000     1.000     1.000     22533\n",
      "\n",
      "\n"
     ]
    }
   ],
   "source": [
    "print()\n",
    "print('--------------------------- Results --------------------------------')\n",
    "print()\n",
    "print (\"Cross Validation Mean Score:\" \"\\n\", scores.mean())\n",
    "print()\n",
    "print (\"Model Accuracy:\" \"\\n\", accuracy)\n",
    "print()\n",
    "print(\"Confusion matrix:\" \"\\n\", confusion_matrix)\n",
    "print()\n",
    "print(\"Classification report:\" \"\\n\", classification)\n",
    "print()"
   ]
  },
  {
   "cell_type": "code",
   "execution_count": 33,
   "metadata": {
    "id": "nitIu_kCLzAh"
   },
   "outputs": [],
   "source": [
    "def plot_confusion_matrix(cm,title,cmap=None,target=None,normalize=False):\n",
    "\n",
    "    import itertools\n",
    "    accuracy = np.trace(cm) / float(np.sum(cm))\n",
    "    misclass = 1 - accuracy\n",
    "\n",
    "    if cmap is None:\n",
    "        cmap = plt.get_cmap('viridis')\n",
    "    plt.figure(figsize=(20, 20))\n",
    "    plt.imshow(cm, interpolation='nearest', cmap=cmap)\n",
    "    plt.title(title)\n",
    "    plt.colorbar()\n",
    "\n",
    "    if target is not None:\n",
    "        ticks = np.arange(len(target))\n",
    "        plt.xticks(ticks, target, rotation=45)\n",
    "        plt.yticks(ticks, target)\n",
    "    if normalize:\n",
    "        cm = cm.astype('float') / cm.sum(axis=1)[:, np.newaxis]\n",
    "\n",
    "\n",
    "    thresh = cm.max() / 1.5 if normalize else cm.max() / 2\n",
    "    for i, j in itertools.product(range(cm.shape[0]), range(cm.shape[1])):\n",
    "        if normalize:\n",
    "            plt.text(j, i, \"{:0.4f}\".format(cm[i, j]),\n",
    "                     horizontalalignment=\"center\",\n",
    "                     color=\"black\" if cm[i, j] > thresh else \"white\")\n",
    "        else:\n",
    "            plt.text(j, i, \"{:,}\".format(cm[i, j]),\n",
    "                     horizontalalignment=\"center\",\n",
    "                     color=\"black\" if cm[i, j] > thresh else \"white\")\n",
    "    plt.grid(False)\n",
    "    plt.tight_layout()\n",
    "    plt.ylabel('True label')\n",
    "    plt.xlabel('Predicted label\\naccuracy={:0.4f}; misclass={:0.4f}'.format(accuracy, misclass))\n",
    "    plt.show()\n",
    "    plt.savefig(title, bbox_inches='tight', dpi=300)"
   ]
  },
  {
   "cell_type": "code",
   "execution_count": 34,
   "metadata": {
    "colab": {
     "base_uri": "https://localhost:8080/",
     "height": 1000
    },
    "id": "b9C3tseUL1qx",
    "outputId": "93acc8c4-7a8e-47a1-b665-8d41b23325b3"
   },
   "outputs": [
    {
     "data": {
      "image/png": "[encoded data removed]",
      "text/plain": [
       "<Figure size 2000x2000 with 2 Axes>"
      ]
     },
     "metadata": {},
     "output_type": "display_data"
    },
    {
     "data": {
      "text/plain": [
       "<Figure size 640x480 with 0 Axes>"
      ]
     },
     "metadata": {},
     "output_type": "display_data"
    }
   ],
   "source": [
    "import matplotlib.pyplot as plt\n",
    "import seaborn as sns\n",
    "plot_confusion_matrix(cm=confusion_matrix ,title= 'Random Forest Classification')"
   ]
  },
  {
   "cell_type": "code",
   "execution_count": 35,
   "metadata": {
    "colab": {
     "base_uri": "https://localhost:8080/"
    },
    "id": "ot9Wf7CjOtkc",
    "outputId": "1b28bc1f-20f4-4c00-b024-bb44939cd6d6"
   },
   "outputs": [
    {
     "name": "stdout",
     "output_type": "stream",
     "text": [
      "Time taken to for performance matric calculation:  8.157326936721802  seconds\n"
     ]
    }
   ],
   "source": [
    "# performance metrics calculation of our model over test data set\n",
    "start = time.time()\n",
    "Predict_X =  Random_Forest.predict(X_test)\n",
    "scores = cross_val_score(Random_Forest, X_test, Y_test, cv=7)\n",
    "accuracy = metrics.accuracy_score(Y_test,Predict_X)\n",
    "confusion_matrix = metrics.confusion_matrix(Y_test, Predict_X)\n",
    "classification = metrics.classification_report(Y_test, Predict_X, digits=3)\n",
    "print(\"Time taken to for performance matric calculation: \", time.time()-start,\" seconds\")"
   ]
  },
  {
   "cell_type": "code",
   "execution_count": 36,
   "metadata": {
    "colab": {
     "base_uri": "https://localhost:8080/"
    },
    "id": "IhfxbLoTO5qO",
    "outputId": "f5acfa2c-aaaa-447f-fa64-43b0af2d2d27",
    "scrolled": true
   },
   "outputs": [
    {
     "name": "stdout",
     "output_type": "stream",
     "text": [
      "\n",
      "--------------------------- Results --------------------------------\n",
      "\n",
      "Cross Validation Mean Score:\n",
      " 0.9925445569973741\n",
      "\n",
      "Model Accuracy:\n",
      " 0.9947188567878223\n",
      "\n",
      "Confusion matrix:\n",
      " [[ 945    0    1    2    1    1    0    8    1    0]\n",
      " [   2  934    0    0    0    0    0    0    0    0]\n",
      " [   0    0  967    0    0    0    0    0    0    0]\n",
      " [   2    0    1  938    0    0    0    0    0    0]\n",
      " [   3    0    0    0  947    5    0    2    0    0]\n",
      " [   2    0    0    0    1  947    0    2    0    0]\n",
      " [   0    0    0    0    0    0 1025    0    0    0]\n",
      " [  10    0    3    1    0    0    0  949    0    0]\n",
      " [   0    2    0    1    0    0    0    0  980    0]\n",
      " [   0    0    0    0    0    0    0    0    0  974]]\n",
      "\n",
      "Classification report:\n",
      "                   precision    recall  f1-score   support\n",
      "\n",
      "          BENIGN      0.980     0.985     0.983       959\n",
      "            DDoS      0.998     0.998     0.998       936\n",
      "   DoS GoldenEye      0.995     1.000     0.997       967\n",
      "        DoS Hulk      0.996     0.997     0.996       941\n",
      "DoS Slowhttptest      0.998     0.990     0.994       957\n",
      "   DoS slowloris      0.994     0.995     0.994       952\n",
      "     FTP-Patator      1.000     1.000     1.000      1025\n",
      "           Other      0.988     0.985     0.986       963\n",
      "        PortScan      0.999     0.997     0.998       983\n",
      "     SSH-Patator      1.000     1.000     1.000       974\n",
      "\n",
      "        accuracy                          0.995      9657\n",
      "       macro avg      0.995     0.995     0.995      9657\n",
      "    weighted avg      0.995     0.995     0.995      9657\n",
      "\n",
      "\n"
     ]
    }
   ],
   "source": [
    "print()\n",
    "print('--------------------------- Results --------------------------------')\n",
    "print()\n",
    "print (\"Cross Validation Mean Score:\" \"\\n\", scores.mean())\n",
    "print()\n",
    "print (\"Model Accuracy:\" \"\\n\", accuracy)\n",
    "print()\n",
    "print(\"Confusion matrix:\" \"\\n\", confusion_matrix)\n",
    "print()\n",
    "print(\"Classification report:\" \"\\n\", classification)\n",
    "print()"
   ]
  },
  {
   "cell_type": "code",
   "execution_count": 37,
   "metadata": {
    "colab": {
     "base_uri": "https://localhost:8080/",
     "height": 1000
    },
    "id": "Vb77LRHWPDHp",
    "outputId": "ce014968-db63-4c40-aeb7-e3f9d8f547ef"
   },
   "outputs": [
    {
     "data": {
      "image/png": "[encoded data removed]",
      "text/plain": [
       "<Figure size 2000x2000 with 2 Axes>"
      ]
     },
     "metadata": {},
     "output_type": "display_data"
    },
    {
     "data": {
      "text/plain": [
       "<Figure size 640x480 with 0 Axes>"
      ]
     },
     "metadata": {},
     "output_type": "display_data"
    }
   ],
   "source": [
    "plot_confusion_matrix(cm=confusion_matrix ,title= 'Random Forest Classification')"
   ]
  },
  {
   "cell_type": "code",
   "execution_count": 38,
   "metadata": {
    "colab": {
     "base_uri": "https://localhost:8080/"
    },
    "id": "8C4tTE3ckkCj",
    "outputId": "061f51ce-455f-4e82-a661-06a6a4775952"
   },
   "outputs": [
    {
     "data": {
      "text/plain": [
       "array([[-0.26771718, -0.40193748,  0.19838519, ..., -0.19865581,\n",
       "        -0.34485315, -0.28169172],\n",
       "       [-0.26771718, -0.41005021,  0.19838519, ..., -0.19865581,\n",
       "        -0.34485315, -0.28169172],\n",
       "       [-0.26186951,  2.03261081,  0.12035955, ...,  6.23852219,\n",
       "         3.96655621,  2.30725884],\n",
       "       ...,\n",
       "       [-0.26186951, -0.70526631, -0.0825071 , ..., -0.19865581,\n",
       "        -0.34485315, -0.28169172],\n",
       "       [-0.26186951, -0.67460258, -0.0825071 , ..., -0.19865581,\n",
       "        -0.34485315, -0.28169172],\n",
       "       [-0.26186951, -0.46409063, -0.05129684, ..., -0.19865581,\n",
       "        -0.34211145, -0.28169172]])"
      ]
     },
     "execution_count": 38,
     "metadata": {},
     "output_type": "execute_result"
    }
   ],
   "source": [
    "X_test"
   ]
  },
  {
   "cell_type": "code",
   "execution_count": 39,
   "metadata": {
    "id": "1fteOM7ekkCj"
   },
   "outputs": [
    {
     "data": {
      "text/plain": [
       "['random_forest_model.joblib']"
      ]
     },
     "execution_count": 39,
     "metadata": {},
     "output_type": "execute_result"
    }
   ],
   "source": [
    "from joblib import dump, load\n",
    "\n",
    "# Save the model\n",
    "dump(Random_Forest, 'random_forest_model.joblib')\n",
    "\n",
    "# To load the model later, use:\n",
    "# Random_Forest = load('random_forest_model.joblib')\n"
   ]
  }
 ],
 "metadata": {
  "colab": {
   "provenance": []
  },
  "kernelspec": {
   "display_name": "venvattt",
   "language": "python",
   "name": "python3"
  },
  "language_info": {
   "codemirror_mode": {
    "name": "ipython",
    "version": 3
   },
   "file_extension": ".py",
   "mimetype": "text/x-python",
   "name": "python",
   "nbconvert_exporter": "python",
   "pygments_lexer": "ipython3",
   "version": "3.10.10"
  }
 },
 "nbformat": 4,
 "nbformat_minor": 0
}
