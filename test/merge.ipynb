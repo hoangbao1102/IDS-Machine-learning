{
 "cells": [
  {
   "cell_type": "code",
   "execution_count": 2,
   "metadata": {},
   "outputs": [
    {
     "name": "stdout",
     "output_type": "stream",
     "text": [
      "Loaded ./dataset\\Friday-WorkingHours-Afternoon-DDos.pcap_ISCX.csv with 225745 rows.\n",
      "Loaded ./dataset\\Friday-WorkingHours-Afternoon-PortScan.pcap_ISCX.csv with 286467 rows.\n",
      "Loaded ./dataset\\Friday-WorkingHours-Morning.pcap_ISCX.csv with 191033 rows.\n",
      "Loaded ./dataset\\Monday-WorkingHours.pcap_ISCX.csv with 529918 rows.\n",
      "Loaded ./dataset\\Thursday-WorkingHours-Afternoon-Infilteration.pcap_ISCX.csv with 288602 rows.\n",
      "Loaded ./dataset\\Thursday-WorkingHours-Morning-WebAttacks.pcap_ISCX.csv with 170366 rows.\n",
      "Loaded ./dataset\\Tuesday-WorkingHours.pcap_ISCX.csv with 445909 rows.\n",
      "Loaded ./dataset\\Wednesday-workingHours.pcap_ISCX.csv with 692703 rows.\n",
      "Merged 8 files into merged_cicids_2017.csv.\n"
     ]
    }
   ],
   "source": [
    "import pandas as pd\n",
    "import os\n",
    "import glob\n",
    "\n",
    "# Specify the directory containing the CSV files\n",
    "directory_path = './dataset'  # Change this to your directory path\n",
    "output_file = 'merged_cicids_2017.csv'\n",
    "\n",
    "# Use glob to find all CSV files ending with 'ISCX.csv'\n",
    "csv_files = glob.glob(os.path.join(directory_path, '*ISCX.csv'))\n",
    "\n",
    "# Initialize an empty list to hold DataFrames\n",
    "dataframes = []\n",
    "\n",
    "# Loop through the files and read them into DataFrames\n",
    "for file in csv_files:\n",
    "    try:\n",
    "        df = pd.read_csv(file)\n",
    "        dataframes.append(df)\n",
    "        print(f\"Loaded {file} with {len(df)} rows.\")\n",
    "    except Exception as e:\n",
    "        print(f\"Error reading {file}: {e}\")\n",
    "\n",
    "# Concatenate all DataFrames in the list into a single DataFrame\n",
    "merged_df = pd.concat(dataframes, ignore_index=True)\n",
    "\n",
    "# Save the merged DataFrame to a new CSV file\n",
    "merged_df.to_csv(output_file, index=False)\n",
    "print(f\"Merged {len(dataframes)} files into {output_file}.\")\n"
   ]
  }
 ],
 "metadata": {
  "kernelspec": {
   "display_name": "Python 3",
   "language": "python",
   "name": "python3"
  },
  "language_info": {
   "codemirror_mode": {
    "name": "ipython",
    "version": 3
   },
   "file_extension": ".py",
   "mimetype": "text/x-python",
   "name": "python",
   "nbconvert_exporter": "python",
   "pygments_lexer": "ipython3",
   "version": "3.10.10"
  }
 },
 "nbformat": 4,
 "nbformat_minor": 2
}
