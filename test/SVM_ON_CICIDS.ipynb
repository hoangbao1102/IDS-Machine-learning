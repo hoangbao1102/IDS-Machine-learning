{
  "cells": [
    {
      "cell_type": "code",
      "execution_count": null,
      "metadata": {
        "colab": {
          "base_uri": "https://localhost:8080/"
        },
        "id": "l8g-SULCqiY4",
        "outputId": "750aef67-ee7d-4667-80c1-b303a9542bfb"
      },
      "outputs": [],
      "source": [
        "# from google.colab import drive\n",
        "# drive.mount('/content/drive')"
      ]
    },
    {
      "cell_type": "code",
      "execution_count": 2,
      "metadata": {
        "id": "ok4CrFxl3l-q"
      },
      "outputs": [],
      "source": [
        "import numpy as np\n",
        "import os\n",
        "import time\n",
        "import pandas as pd\n",
        "from scipy import stats\n",
        "import matplotlib.pyplot as plt\n",
        "import seaborn as sns"
      ]
    },
    {
      "cell_type": "code",
      "execution_count": 3,
      "metadata": {
        "colab": {
          "base_uri": "https://localhost:8080/"
        },
        "id": "fzcx0dkt-RR_",
        "outputId": "381780c4-d572-4b5c-9b32-ed50b7b4ce52"
      },
      "outputs": [
        {
          "name": "stdout",
          "output_type": "stream",
          "text": [
            "dataset\\preprocesd_cicids.csv\n"
          ]
        }
      ],
      "source": [
        "DATASET_PATH='dataset\\\\preprocesd_cicids.csv'\n",
        "print(DATASET_PATH)"
      ]
    },
    {
      "cell_type": "code",
      "execution_count": 4,
      "metadata": {
        "colab": {
          "base_uri": "https://localhost:8080/"
        },
        "id": "rxj5heEs-VJ5",
        "outputId": "9bab2ce3-c1c7-4759-93c6-4631ee0db588"
      },
      "outputs": [
        {
          "name": "stdout",
          "output_type": "stream",
          "text": [
            "Time taken to load the data:  22.986497402191162  seconds\n"
          ]
        }
      ],
      "source": [
        "# ,nrows=10000, header=0\n",
        "start = time.time()\n",
        "df=pd.read_csv(DATASET_PATH)\n",
        "df.head()\n",
        "print(\"Time taken to load the data: \", time.time()-start,\" seconds\")"
      ]
    },
    {
      "cell_type": "code",
      "execution_count": 5,
      "metadata": {
        "colab": {
          "base_uri": "https://localhost:8080/"
        },
        "id": "vlfzR_Ui-ZDH",
        "outputId": "49ab448b-542f-42a6-e088-0cf4515ad428"
      },
      "outputs": [
        {
          "data": {
            "text/plain": [
              "(2520798, 79)"
            ]
          },
          "execution_count": 5,
          "metadata": {},
          "output_type": "execute_result"
        }
      ],
      "source": [
        "df.shape"
      ]
    },
    {
      "cell_type": "code",
      "execution_count": 6,
      "metadata": {
        "id": "6Cf68E9--bsS"
      },
      "outputs": [],
      "source": [
        "def correlation(dataset, threshold):\n",
        "    col_corr = set()\n",
        "    corr_matrix = dataset.corr(numeric_only=True)\n",
        "    for i in range(len(corr_matrix.columns)):\n",
        "        for j in range(i):\n",
        "            if abs(corr_matrix.iloc[i, j]) > threshold:\n",
        "              colname = corr_matrix.columns[i]\n",
        "              col_corr.add(colname)\n",
        "    return col_corr"
      ]
    },
    {
      "cell_type": "code",
      "execution_count": 7,
      "metadata": {
        "colab": {
          "base_uri": "https://localhost:8080/"
        },
        "id": "kj--a7DI-c3v",
        "outputId": "e90db858-ff91-4710-cd1a-21bf786dd2bb"
      },
      "outputs": [
        {
          "data": {
            "text/plain": [
              "{' Active Min',\n",
              " ' Average Packet Size',\n",
              " ' Avg Bwd Segment Size',\n",
              " ' Avg Fwd Segment Size',\n",
              " ' Bwd IAT Min',\n",
              " ' Bwd Packet Length Mean',\n",
              " ' Bwd Packet Length Std',\n",
              " ' CWE Flag Count',\n",
              " ' ECE Flag Count',\n",
              " ' Flow IAT Max',\n",
              " ' Fwd Header Length.1',\n",
              " ' Fwd IAT Max',\n",
              " ' Fwd IAT Mean',\n",
              " ' Fwd IAT Min',\n",
              " ' Fwd IAT Std',\n",
              " ' Fwd Packet Length Mean',\n",
              " ' Fwd Packet Length Std',\n",
              " ' Idle Max',\n",
              " ' Idle Min',\n",
              " ' Max Packet Length',\n",
              " ' Packet Length Mean',\n",
              " ' Packet Length Std',\n",
              " ' Packet Length Variance',\n",
              " ' SYN Flag Count',\n",
              " ' Subflow Bwd Bytes',\n",
              " ' Subflow Bwd Packets',\n",
              " ' Subflow Fwd Bytes',\n",
              " ' Total Backward Packets',\n",
              " ' Total Length of Bwd Packets',\n",
              " ' act_data_pkt_fwd',\n",
              " ' min_seg_size_forward',\n",
              " 'Fwd IAT Total',\n",
              " 'Fwd Packets/s',\n",
              " 'Idle Mean',\n",
              " 'Subflow Fwd Packets'}"
            ]
          },
          "execution_count": 7,
          "metadata": {},
          "output_type": "execute_result"
        }
      ],
      "source": [
        "corr_features = correlation(df, 0.85)\n",
        "corr_features"
      ]
    },
    {
      "cell_type": "code",
      "execution_count": 8,
      "metadata": {
        "id": "XOWDdb4v-j93"
      },
      "outputs": [],
      "source": [
        "df.drop(corr_features,axis=1,inplace=True)"
      ]
    },
    {
      "cell_type": "code",
      "execution_count": 9,
      "metadata": {
        "colab": {
          "base_uri": "https://localhost:8080/"
        },
        "id": "M3RcuRrk-n7a",
        "outputId": "3a1186d9-bd0a-492b-ca30-d16c76c50c6a"
      },
      "outputs": [
        {
          "data": {
            "text/plain": [
              "(2520798, 44)"
            ]
          },
          "execution_count": 9,
          "metadata": {},
          "output_type": "execute_result"
        }
      ],
      "source": [
        "df.shape"
      ]
    },
    {
      "cell_type": "code",
      "execution_count": 10,
      "metadata": {
        "colab": {
          "base_uri": "https://localhost:8080/"
        },
        "id": "DK1cKPie-rVL",
        "outputId": "586913c3-7c87-4152-b8a9-9abdff3b3850"
      },
      "outputs": [
        {
          "name": "stdout",
          "output_type": "stream",
          "text": [
            "['Bot', 'Web Attack � Brute Force', 'Web Attack � XSS', 'Infiltration', 'Web Attack � Sql Injection', 'Heartbleed']\n"
          ]
        }
      ],
      "source": [
        "# create a Series with the count of rows in each group\n",
        "label_counts = df[' Label'].value_counts()\n",
        "\n",
        "# create a list of labels that have less than 10,000 rows\n",
        "labels_to_merge = label_counts[label_counts < 3000].index.tolist()\n",
        "print(labels_to_merge)"
      ]
    },
    {
      "cell_type": "code",
      "execution_count": 11,
      "metadata": {
        "id": "J7A7uNLx-110"
      },
      "outputs": [],
      "source": [
        "# # create a new label called 'Other' and merge the labels with less than 10,000 rows\n",
        "df[' Label'] = df[' Label'].apply(lambda x: 'Other' if x in labels_to_merge else x)\n",
        "# group the rows by the new 'Label' column\n",
        "grouped_df = df.groupby(' Label')"
      ]
    },
    {
      "cell_type": "code",
      "execution_count": 12,
      "metadata": {
        "colab": {
          "base_uri": "https://localhost:8080/"
        },
        "id": "YcelbwVR-6kf",
        "outputId": "7aeeef49-7e9c-467b-bcc2-3d4556e6bc46"
      },
      "outputs": [
        {
          "data": {
            "text/plain": [
              "(2520798, 44)"
            ]
          },
          "execution_count": 12,
          "metadata": {},
          "output_type": "execute_result"
        }
      ],
      "source": [
        "df.shape"
      ]
    },
    {
      "cell_type": "code",
      "execution_count": 13,
      "metadata": {
        "colab": {
          "base_uri": "https://localhost:8080/",
          "height": 429
        },
        "id": "vNQrUyzu--_v",
        "outputId": "e906a3d1-f62c-443c-8e63-3fe718ee8955"
      },
      "outputs": [
        {
          "data": {
            "text/plain": [
              "BENIGN              2095057\n",
              "DoS Hulk             172846\n",
              "DDoS                 128014\n",
              "PortScan              90694\n",
              "DoS GoldenEye         10286\n",
              "FTP-Patator            5931\n",
              "DoS slowloris          5385\n",
              "DoS Slowhttptest       5228\n",
              "Other                  4138\n",
              "SSH-Patator            3219\n",
              "Name:  Label, dtype: int64"
            ]
          },
          "execution_count": 13,
          "metadata": {},
          "output_type": "execute_result"
        }
      ],
      "source": [
        "df[' Label'].value_counts()"
      ]
    },
    {
      "cell_type": "code",
      "execution_count": 14,
      "metadata": {
        "id": "x9vAlP16_BDf"
      },
      "outputs": [],
      "source": [
        "x = df.drop([' Label'],axis=1)\n",
        "y = df[' Label']"
      ]
    },
    {
      "cell_type": "code",
      "execution_count": 15,
      "metadata": {
        "id": "Ma-i_7Bn_GDG"
      },
      "outputs": [],
      "source": [
        "# from imblearn.under_sampling import RandomUnderSampler\n",
        "# rus = RandomUnderSampler(random_state=0)\n",
        "# rus.fit(x, y)\n",
        "# Xn, yn = rus.fit_resample(x, y)\n",
        "# # Xn.value_counts()\n",
        "Xn, yn = x, y"
      ]
    },
    {
      "cell_type": "code",
      "execution_count": 16,
      "metadata": {
        "colab": {
          "base_uri": "https://localhost:8080/"
        },
        "id": "R3HW5gpt_gbl",
        "outputId": "47eb449a-5929-41ae-f074-71ff869d0d69"
      },
      "outputs": [
        {
          "data": {
            "text/plain": [
              "(2520798, 43)"
            ]
          },
          "execution_count": 16,
          "metadata": {},
          "output_type": "execute_result"
        }
      ],
      "source": [
        "Xn.shape"
      ]
    },
    {
      "cell_type": "code",
      "execution_count": 17,
      "metadata": {
        "colab": {
          "base_uri": "https://localhost:8080/"
        },
        "id": "_e4Mks-R_jvL",
        "outputId": "cbdab7f9-f028-44f1-f2ee-eacc09162c95"
      },
      "outputs": [
        {
          "data": {
            "text/plain": [
              "(2520798,)"
            ]
          },
          "execution_count": 17,
          "metadata": {},
          "output_type": "execute_result"
        }
      ],
      "source": [
        "yn.shape"
      ]
    },
    {
      "cell_type": "code",
      "execution_count": 18,
      "metadata": {
        "colab": {
          "base_uri": "https://localhost:8080/",
          "height": 429
        },
        "id": "5iBk6PZQ_pyA",
        "outputId": "cc9265fa-4344-4dd5-8b01-4c18957ad633"
      },
      "outputs": [
        {
          "data": {
            "text/plain": [
              "BENIGN              2095057\n",
              "DoS Hulk             172846\n",
              "DDoS                 128014\n",
              "PortScan              90694\n",
              "DoS GoldenEye         10286\n",
              "FTP-Patator            5931\n",
              "DoS slowloris          5385\n",
              "DoS Slowhttptest       5228\n",
              "Other                  4138\n",
              "SSH-Patator            3219\n",
              "Name:  Label, dtype: int64"
            ]
          },
          "execution_count": 18,
          "metadata": {},
          "output_type": "execute_result"
        }
      ],
      "source": [
        "yn.value_counts()"
      ]
    },
    {
      "cell_type": "code",
      "execution_count": 19,
      "metadata": {
        "id": "lI_fSsRAamEc"
      },
      "outputs": [],
      "source": [
        "#z-score   z = (x - mean) / std\n",
        "# it can make it easier for the algorithm to learn meaningful patterns in the data\n",
        "cols = list(Xn.columns)\n",
        "for col in cols:\n",
        "    Xn[col] = stats.zscore(Xn[col])"
      ]
    },
    {
      "cell_type": "code",
      "execution_count": 20,
      "metadata": {
        "colab": {
          "base_uri": "https://localhost:8080/",
          "height": 307
        },
        "id": "npocVXt_a4n1",
        "outputId": "35b9345e-b048-439a-8849-e88d198f0954"
      },
      "outputs": [
        {
          "data": {
            "text/html": [
              "<div>\n",
              "<style scoped>\n",
              "    .dataframe tbody tr th:only-of-type {\n",
              "        vertical-align: middle;\n",
              "    }\n",
              "\n",
              "    .dataframe tbody tr th {\n",
              "        vertical-align: top;\n",
              "    }\n",
              "\n",
              "    .dataframe thead th {\n",
              "        text-align: right;\n",
              "    }\n",
              "</style>\n",
              "<table border=\"1\" class=\"dataframe\">\n",
              "  <thead>\n",
              "    <tr style=\"text-align: right;\">\n",
              "      <th></th>\n",
              "      <th>Destination Port</th>\n",
              "      <th>Flow Duration</th>\n",
              "      <th>Total Fwd Packets</th>\n",
              "      <th>Total Length of Fwd Packets</th>\n",
              "      <th>Fwd Packet Length Max</th>\n",
              "      <th>Fwd Packet Length Min</th>\n",
              "      <th>Bwd Packet Length Max</th>\n",
              "      <th>Bwd Packet Length Min</th>\n",
              "      <th>Flow Bytes/s</th>\n",
              "      <th>Flow Packets/s</th>\n",
              "      <th>...</th>\n",
              "      <th>Fwd Avg Bulk Rate</th>\n",
              "      <th>Bwd Avg Bytes/Bulk</th>\n",
              "      <th>Bwd Avg Packets/Bulk</th>\n",
              "      <th>Bwd Avg Bulk Rate</th>\n",
              "      <th>Init_Win_bytes_forward</th>\n",
              "      <th>Init_Win_bytes_backward</th>\n",
              "      <th>Active Mean</th>\n",
              "      <th>Active Std</th>\n",
              "      <th>Active Max</th>\n",
              "      <th>Idle Std</th>\n",
              "    </tr>\n",
              "  </thead>\n",
              "  <tbody>\n",
              "    <tr>\n",
              "      <th>0</th>\n",
              "      <td>2.428596</td>\n",
              "      <td>-0.470914</td>\n",
              "      <td>-0.010425</td>\n",
              "      <td>-0.056662</td>\n",
              "      <td>-0.297774</td>\n",
              "      <td>-0.217169</td>\n",
              "      <td>-0.478315</td>\n",
              "      <td>-0.608911</td>\n",
              "      <td>0.097449</td>\n",
              "      <td>3.056580</td>\n",
              "      <td>...</td>\n",
              "      <td>NaN</td>\n",
              "      <td>NaN</td>\n",
              "      <td>NaN</td>\n",
              "      <td>NaN</td>\n",
              "      <td>-0.495454</td>\n",
              "      <td>-0.249846</td>\n",
              "      <td>-0.13337</td>\n",
              "      <td>-0.110882</td>\n",
              "      <td>-0.158458</td>\n",
              "      <td>-0.11608</td>\n",
              "    </tr>\n",
              "    <tr>\n",
              "      <th>1</th>\n",
              "      <td>2.438537</td>\n",
              "      <td>-0.470911</td>\n",
              "      <td>-0.011684</td>\n",
              "      <td>-0.057228</td>\n",
              "      <td>-0.297774</td>\n",
              "      <td>-0.217169</td>\n",
              "      <td>-0.475372</td>\n",
              "      <td>-0.524261</td>\n",
              "      <td>-0.048949</td>\n",
              "      <td>-0.142833</td>\n",
              "      <td>...</td>\n",
              "      <td>NaN</td>\n",
              "      <td>NaN</td>\n",
              "      <td>NaN</td>\n",
              "      <td>NaN</td>\n",
              "      <td>-0.495728</td>\n",
              "      <td>-0.221049</td>\n",
              "      <td>-0.13337</td>\n",
              "      <td>-0.110882</td>\n",
              "      <td>-0.158458</td>\n",
              "      <td>-0.11608</td>\n",
              "    </tr>\n",
              "    <tr>\n",
              "      <th>2</th>\n",
              "      <td>2.438590</td>\n",
              "      <td>-0.470913</td>\n",
              "      <td>-0.011684</td>\n",
              "      <td>-0.057228</td>\n",
              "      <td>-0.297774</td>\n",
              "      <td>-0.217169</td>\n",
              "      <td>-0.475372</td>\n",
              "      <td>-0.524261</td>\n",
              "      <td>-0.044407</td>\n",
              "      <td>-0.043577</td>\n",
              "      <td>...</td>\n",
              "      <td>NaN</td>\n",
              "      <td>NaN</td>\n",
              "      <td>NaN</td>\n",
              "      <td>NaN</td>\n",
              "      <td>-0.495728</td>\n",
              "      <td>-0.221049</td>\n",
              "      <td>-0.13337</td>\n",
              "      <td>-0.110882</td>\n",
              "      <td>-0.158458</td>\n",
              "      <td>-0.11608</td>\n",
              "    </tr>\n",
              "    <tr>\n",
              "      <th>3</th>\n",
              "      <td>1.974744</td>\n",
              "      <td>-0.470913</td>\n",
              "      <td>-0.011684</td>\n",
              "      <td>-0.057228</td>\n",
              "      <td>-0.297774</td>\n",
              "      <td>-0.217169</td>\n",
              "      <td>-0.475372</td>\n",
              "      <td>-0.524261</td>\n",
              "      <td>-0.039809</td>\n",
              "      <td>0.056908</td>\n",
              "      <td>...</td>\n",
              "      <td>NaN</td>\n",
              "      <td>NaN</td>\n",
              "      <td>NaN</td>\n",
              "      <td>NaN</td>\n",
              "      <td>-0.495591</td>\n",
              "      <td>-0.212869</td>\n",
              "      <td>-0.13337</td>\n",
              "      <td>-0.110882</td>\n",
              "      <td>-0.158458</td>\n",
              "      <td>-0.11608</td>\n",
              "    </tr>\n",
              "    <tr>\n",
              "      <th>4</th>\n",
              "      <td>2.428491</td>\n",
              "      <td>-0.470914</td>\n",
              "      <td>-0.010425</td>\n",
              "      <td>-0.056662</td>\n",
              "      <td>-0.297774</td>\n",
              "      <td>-0.217169</td>\n",
              "      <td>-0.478315</td>\n",
              "      <td>-0.608911</td>\n",
              "      <td>0.097449</td>\n",
              "      <td>3.056580</td>\n",
              "      <td>...</td>\n",
              "      <td>NaN</td>\n",
              "      <td>NaN</td>\n",
              "      <td>NaN</td>\n",
              "      <td>NaN</td>\n",
              "      <td>-0.495523</td>\n",
              "      <td>-0.249846</td>\n",
              "      <td>-0.13337</td>\n",
              "      <td>-0.110882</td>\n",
              "      <td>-0.158458</td>\n",
              "      <td>-0.11608</td>\n",
              "    </tr>\n",
              "  </tbody>\n",
              "</table>\n",
              "<p>5 rows × 43 columns</p>\n",
              "</div>"
            ],
            "text/plain": [
              "    Destination Port   Flow Duration   Total Fwd Packets  \\\n",
              "0           2.428596       -0.470914           -0.010425   \n",
              "1           2.438537       -0.470911           -0.011684   \n",
              "2           2.438590       -0.470913           -0.011684   \n",
              "3           1.974744       -0.470913           -0.011684   \n",
              "4           2.428491       -0.470914           -0.010425   \n",
              "\n",
              "   Total Length of Fwd Packets   Fwd Packet Length Max  \\\n",
              "0                    -0.056662               -0.297774   \n",
              "1                    -0.057228               -0.297774   \n",
              "2                    -0.057228               -0.297774   \n",
              "3                    -0.057228               -0.297774   \n",
              "4                    -0.056662               -0.297774   \n",
              "\n",
              "    Fwd Packet Length Min  Bwd Packet Length Max   Bwd Packet Length Min  \\\n",
              "0               -0.217169              -0.478315               -0.608911   \n",
              "1               -0.217169              -0.475372               -0.524261   \n",
              "2               -0.217169              -0.475372               -0.524261   \n",
              "3               -0.217169              -0.475372               -0.524261   \n",
              "4               -0.217169              -0.478315               -0.608911   \n",
              "\n",
              "   Flow Bytes/s   Flow Packets/s  ...   Fwd Avg Bulk Rate  \\\n",
              "0      0.097449         3.056580  ...                 NaN   \n",
              "1     -0.048949        -0.142833  ...                 NaN   \n",
              "2     -0.044407        -0.043577  ...                 NaN   \n",
              "3     -0.039809         0.056908  ...                 NaN   \n",
              "4      0.097449         3.056580  ...                 NaN   \n",
              "\n",
              "    Bwd Avg Bytes/Bulk   Bwd Avg Packets/Bulk  Bwd Avg Bulk Rate  \\\n",
              "0                  NaN                    NaN                NaN   \n",
              "1                  NaN                    NaN                NaN   \n",
              "2                  NaN                    NaN                NaN   \n",
              "3                  NaN                    NaN                NaN   \n",
              "4                  NaN                    NaN                NaN   \n",
              "\n",
              "   Init_Win_bytes_forward   Init_Win_bytes_backward  Active Mean   Active Std  \\\n",
              "0               -0.495454                 -0.249846     -0.13337    -0.110882   \n",
              "1               -0.495728                 -0.221049     -0.13337    -0.110882   \n",
              "2               -0.495728                 -0.221049     -0.13337    -0.110882   \n",
              "3               -0.495591                 -0.212869     -0.13337    -0.110882   \n",
              "4               -0.495523                 -0.249846     -0.13337    -0.110882   \n",
              "\n",
              "    Active Max   Idle Std  \n",
              "0    -0.158458   -0.11608  \n",
              "1    -0.158458   -0.11608  \n",
              "2    -0.158458   -0.11608  \n",
              "3    -0.158458   -0.11608  \n",
              "4    -0.158458   -0.11608  \n",
              "\n",
              "[5 rows x 43 columns]"
            ]
          },
          "execution_count": 20,
          "metadata": {},
          "output_type": "execute_result"
        }
      ],
      "source": [
        "Xn.head()"
      ]
    },
    {
      "cell_type": "code",
      "execution_count": 21,
      "metadata": {
        "id": "7t2GrS45GV3u"
      },
      "outputs": [],
      "source": [
        "from sklearn.model_selection import  train_test_split\n",
        "X_train, X_test, Y_train, Y_test = train_test_split(Xn,yn,test_size=0.20,random_state=0)"
      ]
    },
    {
      "cell_type": "code",
      "execution_count": 22,
      "metadata": {
        "colab": {
          "base_uri": "https://localhost:8080/"
        },
        "id": "ANSwAqm3L0ZB",
        "outputId": "080919f0-bf53-462b-87f0-5f7f7e49e3b9"
      },
      "outputs": [
        {
          "name": "stdout",
          "output_type": "stream",
          "text": [
            "True\n",
            "False\n"
          ]
        }
      ],
      "source": [
        "print(np.any(np.isnan(X_train)))\n",
        "print(np.all(np.isfinite(X_train)))"
      ]
    },
    {
      "cell_type": "code",
      "execution_count": 23,
      "metadata": {
        "colab": {
          "base_uri": "https://localhost:8080/"
        },
        "id": "deV4fj1LL4Au",
        "outputId": "6fbcb702-0d2a-40c5-a53d-d09c3e128201"
      },
      "outputs": [],
      "source": [
        "from sklearn.impute import SimpleImputer\n",
        "from sklearn.preprocessing import StandardScaler\n",
        "\n",
        "# Create an instance of SimpleImputer with 'mean' strategy to replace NaN values\n",
        "imputer = SimpleImputer(strategy='mean')\n",
        "\n",
        "# Fit the imputer to X_train and transform X_train and X_test with it\n",
        "X_train = imputer.fit_transform(X_train)\n",
        "X_test = imputer.transform(X_test)\n",
        "\n",
        "# Apply StandardScaler to X_train and X_test\n",
        "scaler = StandardScaler()\n",
        "X_train = scaler.fit_transform(X_train)\n",
        "X_test = scaler.transform(X_test)"
      ]
    },
    {
      "cell_type": "code",
      "execution_count": null,
      "metadata": {
        "id": "26nzXWT9Mn_7"
      },
      "outputs": [],
      "source": [
        "from sklearn.svm import SVC\n",
        "# model training USING SVM (suppor vector machine)\n",
        "start = time.time()\n",
        "svm = SVC(kernel='rbf', C=1.0, gamma='scale')\n",
        "svm.fit(X_train, Y_train)\n",
        "print(\"Time taken to train model: \", time.time()-start,\" seconds\")"
      ]
    },
    {
      "cell_type": "code",
      "execution_count": null,
      "metadata": {
        "id": "h8wX3yJKNqho"
      },
      "outputs": [],
      "source": [
        "from sklearn.model_selection import cross_val_score\n",
        "from sklearn import metrics\n",
        "\n",
        "\n",
        "# performance metrics calculation of our model over training data set\n",
        "start = time.time()\n",
        "Predict_X =  svm.predict(X_train)\n",
        "scores = cross_val_score(svm, X_train, Y_train, cv=7)\n",
        "accuracy = metrics.accuracy_score(Y_train,Predict_X)\n",
        "confusion_matrix = metrics.confusion_matrix(Y_train, Predict_X)\n",
        "classification = metrics.classification_report(Y_train, Predict_X)\n",
        "print(\"Time taken to for performance matric calculation: \", time.time()-start,\" seconds\")"
      ]
    },
    {
      "cell_type": "code",
      "execution_count": null,
      "metadata": {
        "id": "kMw0wkXcOabN"
      },
      "outputs": [],
      "source": [
        "print()\n",
        "print('--------------------------- Results --------------------------------')\n",
        "print()\n",
        "print (\"Cross Validation Mean Score:\" \"\\n\", scores.mean())\n",
        "print()\n",
        "print (\"Model Accuracy:\" \"\\n\", accuracy)\n",
        "print()\n",
        "print(\"Confusion matrix:\" \"\\n\", confusion_matrix)\n",
        "print()\n",
        "print(\"Classification report:\" \"\\n\", classification)\n",
        "print()"
      ]
    },
    {
      "cell_type": "code",
      "execution_count": null,
      "metadata": {
        "id": "qebif4R8OzEv"
      },
      "outputs": [],
      "source": [
        "def plot_confusion_matrix(cm,title,cmap=None,target=None,normalize=False):\n",
        "\n",
        "    import itertools\n",
        "    accuracy = np.trace(cm) / float(np.sum(cm))\n",
        "    misclass = 1 - accuracy\n",
        "\n",
        "    if cmap is None:\n",
        "        cmap = plt.get_cmap('viridis')\n",
        "    plt.figure(figsize=(20, 20))\n",
        "    plt.imshow(cm, interpolation='nearest', cmap=cmap)\n",
        "    plt.title(title)\n",
        "    plt.colorbar()\n",
        "\n",
        "    if target is not None:\n",
        "        ticks = np.arange(len(target))\n",
        "        plt.xticks(ticks, target, rotation=45)\n",
        "        plt.yticks(ticks, target)\n",
        "    if normalize:\n",
        "        cm = cm.astype('float') / cm.sum(axis=1)[:, np.newaxis]\n",
        "\n",
        "\n",
        "    thresh = cm.max() / 1.5 if normalize else cm.max() / 2\n",
        "    for i, j in itertools.product(range(cm.shape[0]), range(cm.shape[1])):\n",
        "        if normalize:\n",
        "            plt.text(j, i, \"{:0.4f}\".format(cm[i, j]),\n",
        "                     horizontalalignment=\"center\",\n",
        "                     color=\"black\" if cm[i, j] > thresh else \"white\")\n",
        "        else:\n",
        "            plt.text(j, i, \"{:,}\".format(cm[i, j]),\n",
        "                     horizontalalignment=\"center\",\n",
        "                     color=\"black\" if cm[i, j] > thresh else \"white\")\n",
        "    plt.grid(False)\n",
        "    plt.tight_layout()\n",
        "    plt.ylabel('True label')\n",
        "    plt.xlabel('Predicted label\\naccuracy={:0.4f}; misclass={:0.4f}'.format(accuracy, misclass))\n",
        "    plt.show()\n",
        "    plt.savefig(title, bbox_inches='tight', dpi=300)"
      ]
    },
    {
      "cell_type": "code",
      "execution_count": null,
      "metadata": {
        "id": "3Vs9fXDEO3_l"
      },
      "outputs": [],
      "source": [
        "plot_confusion_matrix(cm=confusion_matrix ,title= 'Support Vector Machine Classifire')"
      ]
    },
    {
      "cell_type": "code",
      "execution_count": null,
      "metadata": {
        "id": "mZwZKyhkQIKw"
      },
      "outputs": [],
      "source": [
        "# performance metrics calculation of our model over test data set\n",
        "start = time.time()\n",
        "Predict_X =  svm.predict(X_test)\n",
        "scores = cross_val_score(svm, X_test, Y_test, cv=7)\n",
        "accuracy = metrics.accuracy_score(Y_test,Predict_X)\n",
        "confusion_matrix = metrics.confusion_matrix(Y_test, Predict_X)\n",
        "classification = metrics.classification_report(Y_test, Predict_X)\n",
        "print(\"Time taken to for performance matric calculation: \", time.time()-start,\" seconds\")"
      ]
    },
    {
      "cell_type": "code",
      "execution_count": null,
      "metadata": {
        "id": "9aMEhTFtQmzh"
      },
      "outputs": [],
      "source": [
        "print()\n",
        "print('--------------------------- Results --------------------------------')\n",
        "print()\n",
        "print (\"Cross Validation Mean Score:\" \"\\n\", scores.mean())\n",
        "print()\n",
        "print (\"Model Accuracy:\" \"\\n\", accuracy)\n",
        "print()\n",
        "print(\"Confusion matrix:\" \"\\n\", confusion_matrix)\n",
        "print()\n",
        "print(\"Classification report:\" \"\\n\", classification)\n",
        "print()"
      ]
    },
    {
      "cell_type": "code",
      "execution_count": null,
      "metadata": {
        "id": "HiTsJYIFQrnO"
      },
      "outputs": [],
      "source": [
        "plot_confusion_matrix(cm=confusion_matrix ,title= 'Support Vector Machine Classifire')"
      ]
    }
  ],
  "metadata": {
    "colab": {
      "provenance": []
    },
    "kernelspec": {
      "display_name": "Python 3",
      "name": "python3"
    },
    "language_info": {
      "codemirror_mode": {
        "name": "ipython",
        "version": 3
      },
      "file_extension": ".py",
      "mimetype": "text/x-python",
      "name": "python",
      "nbconvert_exporter": "python",
      "pygments_lexer": "ipython3",
      "version": "3.10.10"
    }
  },
  "nbformat": 4,
  "nbformat_minor": 0
}
